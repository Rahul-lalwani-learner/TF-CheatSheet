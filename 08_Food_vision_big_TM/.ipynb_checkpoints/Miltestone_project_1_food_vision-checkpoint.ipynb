{
 "cells": [
  {
   "cell_type": "markdown",
   "metadata": {
    "id": "TSCYqGQVP0Ga"
   },
   "source": [
    "# Milestone project 1: Food vision Big"
   ]
  },
  {
   "cell_type": "markdown",
   "metadata": {
    "id": "l70FlNVCQAgW"
   },
   "source": [
    "# Check GPU\n",
    "Mixed Precision\n",
    "\n",
    "* Google Colab offere free GPUs, however not all of them are compatiable with mixed precision training.\n",
    "\n",
    "* Google Colab offers:\n",
    "- K80 (not compatible)\n",
    "- p100 (not compatible)\n",
    "- Tesla T4 (compatible)\n",
    "\n",
    "knowing this, in order to use mixed precision training we need access to ta Tesla T4 (from within Google Colab) or if we're using our own hardware, our GPU needs a score of 7.0+ (see here)\n",
    "\n",
    "https://developer.nvidia.com/cuda-gpus"
   ]
  },
  {
   "cell_type": "code",
   "execution_count": 1,
   "metadata": {
    "colab": {
     "base_uri": "https://localhost:8080/"
    },
    "executionInfo": {
     "elapsed": 7,
     "status": "ok",
     "timestamp": 1715153937720,
     "user": {
      "displayName": "Rahul Lalwani",
      "userId": "08386928599429106542"
     },
     "user_tz": -330
    },
    "id": "Ag5psB_2RAQV",
    "outputId": "cbd482aa-ef65-4a7c-9220-19ca16f0e9ad"
   },
   "outputs": [
    {
     "name": "stdout",
     "output_type": "stream",
     "text": [
      "GPU 0: Tesla T4 (UUID: GPU-79435358-20b2-3f87-a822-b87823b120a9)\n"
     ]
    }
   ],
   "source": [
    "!nvidia-smi -L"
   ]
  },
  {
   "cell_type": "markdown",
   "metadata": {
    "id": "g-hqLbOCREDa"
   },
   "source": [
    "Deep neural networks have enabled progress in a wide variety of applications. Growing the size of the neural network typically results in improved accuracy. As model sizes grow, the memory and compute requirements for training these models also increases. We introduce a technique to train deep neural networks using half precision floating point numbers. In our technique, weights, activations and gradients are stored in IEEE half-precision format. Half-precision floating numbers have limited numerical range compared to single-precision numbers. We propose two techniques to handle this loss of information. Firstly, we recommend maintaining a single-precision copy of the weights that accumulates the gradients after each optimizer step. This single-precision copy is rounded to half-precision format during training. Secondly, we propose scaling the loss appropriately to handle the loss of information with half-precision gradients. We demonstrate that this approach works for a wide variety of models including convolution neural networks, recurrent neural networks and generative adversarial networks. This technique works for large scale models with more than 100 million parameters trained on large datasets. Using this approach, we can reduce the memory consumption of deep learning models by nearly 2x. In future processors, we can also expect a significant computation speedup using half-precision hardware units."
   ]
  },
  {
   "cell_type": "markdown",
   "metadata": {
    "id": "z6Oj3vncRfLe"
   },
   "source": [
    "## Get helper functions\n",
    "\n",
    "IN past modules,we've created a bunch of helper functions to do small tasks required for our notebooks\n",
    "\n",
    "Rather than rewriting all of these, we can import a script and load them in for there.\n",
    "\n",
    "can be found in github"
   ]
  },
  {
   "cell_type": "code",
   "execution_count": 2,
   "metadata": {
    "colab": {
     "base_uri": "https://localhost:8080/"
    },
    "executionInfo": {
     "elapsed": 6,
     "status": "ok",
     "timestamp": 1715153938334,
     "user": {
      "displayName": "Rahul Lalwani",
      "userId": "08386928599429106542"
     },
     "user_tz": -330
    },
    "id": "rOu8HXLdR-zK",
    "outputId": "5961bdb2-7062-44ca-ebac-b8845bb804f8"
   },
   "outputs": [
    {
     "name": "stdout",
     "output_type": "stream",
     "text": [
      "--2024-05-08 07:38:58--  https://raw.githubusercontent.com/mrdbourke/tensorflow-deep-learning/main/extras/helper_functions.py\n",
      "Resolving raw.githubusercontent.com (raw.githubusercontent.com)... 185.199.111.133, 185.199.109.133, 185.199.108.133, ...\n",
      "Connecting to raw.githubusercontent.com (raw.githubusercontent.com)|185.199.111.133|:443... connected.\n",
      "HTTP request sent, awaiting response... 200 OK\n",
      "Length: 10246 (10K) [text/plain]\n",
      "Saving to: ‘helper_functions.py’\n",
      "\n",
      "\r",
      "helper_functions.py   0%[                    ]       0  --.-KB/s               \r",
      "helper_functions.py 100%[===================>]  10.01K  --.-KB/s    in 0s      \n",
      "\n",
      "2024-05-08 07:38:58 (86.2 MB/s) - ‘helper_functions.py’ saved [10246/10246]\n",
      "\n"
     ]
    }
   ],
   "source": [
    "!wget https://raw.githubusercontent.com/mrdbourke/tensorflow-deep-learning/main/extras/helper_functions.py"
   ]
  },
  {
   "cell_type": "code",
   "execution_count": 3,
   "metadata": {
    "executionInfo": {
     "elapsed": 9116,
     "status": "ok",
     "timestamp": 1715153947448,
     "user": {
      "displayName": "Rahul Lalwani",
      "userId": "08386928599429106542"
     },
     "user_tz": -330
    },
    "id": "lEsHSqK8SCP1"
   },
   "outputs": [],
   "source": [
    "# import from helper functions\n",
    "\n",
    "from helper_functions import create_tensorboard_callback, plot_loss_curves, compare_historys"
   ]
  },
  {
   "cell_type": "markdown",
   "metadata": {
    "id": "Ts6zVBpxSP1A"
   },
   "source": [
    "# Tensorflow Datasets to Download Data"
   ]
  },
  {
   "cell_type": "code",
   "execution_count": 4,
   "metadata": {
    "colab": {
     "base_uri": "https://localhost:8080/"
    },
    "executionInfo": {
     "elapsed": 5694,
     "status": "ok",
     "timestamp": 1715153953139,
     "user": {
      "displayName": "Rahul Lalwani",
      "userId": "08386928599429106542"
     },
     "user_tz": -330
    },
    "id": "xj8LeNAfSWCu",
    "outputId": "6813ab1c-e4ce-4563-e7ab-6aa4c92adeee"
   },
   "outputs": [
    {
     "name": "stdout",
     "output_type": "stream",
     "text": [
      "True\n"
     ]
    }
   ],
   "source": [
    "import tensorflow_datasets as tfds\n",
    "# list all of the available datasets\n",
    "\n",
    "datasets_list = tfds.list_builders() # get all available dataset in TFDS\n",
    "\n",
    "print('food101' in datasets_list)"
   ]
  },
  {
   "cell_type": "code",
   "execution_count": 5,
   "metadata": {
    "colab": {
     "base_uri": "https://localhost:8080/",
     "height": 169,
     "referenced_widgets": [
      "210ec3bfb85e49bc8879d00125888959",
      "b300aaf6f5c9481cb149d99bf13e0e19",
      "8c3f80bf53684df696109728443055d7",
      "665da1e53b644a529dd6c55f2b35d0c2",
      "cab09d61ace04a0bbc238b1283f98154",
      "7b65faa2ea60436daf29b8d7261f6136",
      "76c8593700bb49ddb5e70fc238d882a1",
      "6ca865fe288a4fb6bd1a2eee1fcf577c",
      "3e9182d718024c1eaf8f6cf6f124e16f",
      "b0e9dee68fa9421b9172e419178d8844",
      "4de23330f6a44fadb0aa2f5840c8e5a4",
      "c4419c1276ed40e3a974f535ec35d903",
      "962a37e4496e40a89c578eb7effa41d5",
      "f8c4299bf9854956a52a3da0e428a54d",
      "31b32a9b790a4379bd8bb3ecbffca469",
      "9758b9a6707b44a1bc10184a16733a16",
      "2114340b12a741bfa213aaf468215cd8",
      "618529ca83644ebe98ff4b97df11ed31",
      "482dd47e3b0f41fb8690533453ea8a1a",
      "76ed8ea23fdc42459b6c449b2f9851c4",
      "98b92d04ac5f4b249d9101b34a4634dd",
      "4ee80ee0cf544e5e85cbdae24834e4c1",
      "6d2383b8f3d045ed93643a71ea3d2e2d",
      "02f4e18074cb4a589583f39e3eae3972",
      "77f67fe53895427e94b328ad8ebaafa3",
      "01fa59dcf31f4f848a27e35bd2397242",
      "3e5c310dca9b4f5e8e96b60702249193",
      "301ac98d3f284d2ea264ff31ab5882e3",
      "71b2a4d62fdf4d63ad8a5f5e70a0d61b",
      "e57401c2a4db46df88622aa8b648f51e",
      "e06bb61a95724a699b86551f8d273cf6",
      "8e372b4d19fe4889854ac748bd4b4cab",
      "81f29bd33aae42d889ea03d52b878f78",
      "d6cc06ced53e4ddfa52590b560572992",
      "3bb656720561483590f0d7c943f0d9d4",
      "a120386e65214070880357a5d43a5a3f",
      "67eab9e51e614339b52bf76e19c7112d",
      "bd631b94d428437a8f1589b3bb05d6cf",
      "46b0482f150d46cb93983234fc6c24df",
      "797e8fd6a40f44a1bf5a1e0db75a885e",
      "7f611a1b76084f64b83b7268b4ec1489",
      "1952e35cf3134bd18bc6d106acd2212c",
      "16e88329d5e94879acd3981ea69d60d8",
      "f93edfd0d9ef400ab61648d98dae74a3",
      "f30d1f3c94ac4d0c88192d2bc8a1af3c",
      "103faae3335e40df8edfef776e3060ad",
      "40c5228e35214b4289a0ff880b42a80a",
      "9c0c1d21036f42dc876e35b3420fb953",
      "90006f5807dc42689d018c4697f50c39",
      "5356c26f070f4f4b8f77e3ab9d010e14",
      "4a37220007034d7a8e84742e1d6baf06",
      "4eb2f241f1664130b9f807b2aef4732d",
      "faf54000a48d47dab7ea0444dbf1d788",
      "31a20f05351141b79c174bb795ca2a06",
      "6c23ecf3804f4da4ac32afb5cc576b88",
      "e317e813907140edaf72b4a4b0ad137d",
      "8ba63dc0a3094855bde451f720036303",
      "84767e407de24fc891b82ed3aded87fc",
      "5f225159995149e9935ed2ec8545a448",
      "82f488e104794dc7a917a20eab6ad693",
      "d121619f356c42abb28fde4182d3b99b",
      "12cf450ddeea4689ba2523ab0f6857a4",
      "7fb2e7a3fe9840cc897e10e64e57ad32",
      "16a1e1f2ed074d63aabf32ce363becb1",
      "e9587a8400ea4b39b19972ec06c53801",
      "106df552a3fe4ef6a01b0c94f56f4972",
      "6366a815c6b24512a165e7fe971e6df9",
      "168e2080d1204b6a93c4b1b304a70169",
      "ede0b7b0335348bbb5d2c0f4767813b5",
      "f15e7b9cc8e040e888d47e554796c4cc",
      "a5752e990a0c4610af60d5c64e200521",
      "cdd9a3a5695e43fba0475e74b1ba5179",
      "af944e30a65a4f5b90b4217f0fe1efbc",
      "e1012249448f4b528c5345d705405c18",
      "3680c50be34e434eba90db1dbe515f06",
      "3520b97d1d8b46e88a0834812252b3ed",
      "f973e1b0abbb47179014b432db7a848e",
      "ec60a433163c41b8b9dd0703d23ced7d",
      "e736f3ebb2a6425e8354d2ea7d207609",
      "b84353e7eb824f2bae2fbd11e3146199",
      "16cd3cc00baf450898cca5a413c9fa52",
      "077631c3153643f69904e1c5a5581116",
      "2b840752193b432c99c280046b500f43",
      "0d0684806567485e8b9027f82116a080",
      "fe780f4fe65048ccbb3f00c989b793a8",
      "ab846132f96d411291441880b2e3e541",
      "ae6c87c831c44202ba1cbcfc681cd6b8",
      "31629250663c4462aea3c224389c8dcc"
     ]
    },
    "executionInfo": {
     "elapsed": 825786,
     "status": "ok",
     "timestamp": 1715154778922,
     "user": {
      "displayName": "Rahul Lalwani",
      "userId": "08386928599429106542"
     },
     "user_tz": -330
    },
    "id": "cIfJxQNwS9D4",
    "outputId": "80148097-5eb0-4c84-bc14-3bfdec206903"
   },
   "outputs": [
    {
     "name": "stdout",
     "output_type": "stream",
     "text": [
      "Downloading and preparing dataset 4.65 GiB (download: 4.65 GiB, generated: Unknown size, total: 4.65 GiB) to /root/tensorflow_datasets/food101/2.0.0...\n"
     ]
    },
    {
     "data": {
      "application/vnd.jupyter.widget-view+json": {
       "model_id": "210ec3bfb85e49bc8879d00125888959",
       "version_major": 2,
       "version_minor": 0
      },
      "text/plain": [
       "Dl Completed...: 0 url [00:00, ? url/s]"
      ]
     },
     "metadata": {},
     "output_type": "display_data"
    },
    {
     "data": {
      "application/vnd.jupyter.widget-view+json": {
       "model_id": "c4419c1276ed40e3a974f535ec35d903",
       "version_major": 2,
       "version_minor": 0
      },
      "text/plain": [
       "Dl Size...: 0 MiB [00:00, ? MiB/s]"
      ]
     },
     "metadata": {},
     "output_type": "display_data"
    },
    {
     "data": {
      "application/vnd.jupyter.widget-view+json": {
       "model_id": "6d2383b8f3d045ed93643a71ea3d2e2d",
       "version_major": 2,
       "version_minor": 0
      },
      "text/plain": [
       "Extraction completed...: 0 file [00:00, ? file/s]"
      ]
     },
     "metadata": {},
     "output_type": "display_data"
    },
    {
     "data": {
      "application/vnd.jupyter.widget-view+json": {
       "model_id": "d6cc06ced53e4ddfa52590b560572992",
       "version_major": 2,
       "version_minor": 0
      },
      "text/plain": [
       "Generating splits...:   0%|          | 0/2 [00:00<?, ? splits/s]"
      ]
     },
     "metadata": {},
     "output_type": "display_data"
    },
    {
     "data": {
      "application/vnd.jupyter.widget-view+json": {
       "model_id": "f30d1f3c94ac4d0c88192d2bc8a1af3c",
       "version_major": 2,
       "version_minor": 0
      },
      "text/plain": [
       "Generating train examples...:   0%|          | 0/75750 [00:00<?, ? examples/s]"
      ]
     },
     "metadata": {},
     "output_type": "display_data"
    },
    {
     "data": {
      "application/vnd.jupyter.widget-view+json": {
       "model_id": "e317e813907140edaf72b4a4b0ad137d",
       "version_major": 2,
       "version_minor": 0
      },
      "text/plain": [
       "Shuffling /root/tensorflow_datasets/food101/2.0.0.incompleteBWJ99I/food101-train.tfrecord*...:   0%|          …"
      ]
     },
     "metadata": {},
     "output_type": "display_data"
    },
    {
     "data": {
      "application/vnd.jupyter.widget-view+json": {
       "model_id": "6366a815c6b24512a165e7fe971e6df9",
       "version_major": 2,
       "version_minor": 0
      },
      "text/plain": [
       "Generating validation examples...:   0%|          | 0/25250 [00:00<?, ? examples/s]"
      ]
     },
     "metadata": {},
     "output_type": "display_data"
    },
    {
     "data": {
      "application/vnd.jupyter.widget-view+json": {
       "model_id": "ec60a433163c41b8b9dd0703d23ced7d",
       "version_major": 2,
       "version_minor": 0
      },
      "text/plain": [
       "Shuffling /root/tensorflow_datasets/food101/2.0.0.incompleteBWJ99I/food101-validation.tfrecord*...:   0%|     …"
      ]
     },
     "metadata": {},
     "output_type": "display_data"
    },
    {
     "name": "stdout",
     "output_type": "stream",
     "text": [
      "Dataset food101 downloaded and prepared to /root/tensorflow_datasets/food101/2.0.0. Subsequent calls will reuse this data.\n"
     ]
    }
   ],
   "source": [
    "# load the data (takes 5-6 minute in Goolab colab)\n",
    "\n",
    "(train_data, test_data), ds_info = tfds.load(name = 'food101',\n",
    "                                             split = ['train', 'validation'],\n",
    "                                             shuffle_files = True,\n",
    "                                             as_supervised = True,# data gets returned in tuple format (data, label)\n",
    "                                             with_info = True)"
   ]
  },
  {
   "cell_type": "code",
   "execution_count": 6,
   "metadata": {
    "colab": {
     "base_uri": "https://localhost:8080/"
    },
    "executionInfo": {
     "elapsed": 19,
     "status": "ok",
     "timestamp": 1715154778923,
     "user": {
      "displayName": "Rahul Lalwani",
      "userId": "08386928599429106542"
     },
     "user_tz": -330
    },
    "id": "uk87L_NJTgG7",
    "outputId": "f7b8becb-431c-4fd2-c771-8dffa6f08fd3"
   },
   "outputs": [
    {
     "data": {
      "text/plain": [
       "FeaturesDict({\n",
       "    'image': Image(shape=(None, None, 3), dtype=uint8),\n",
       "    'label': ClassLabel(shape=(), dtype=int64, num_classes=101),\n",
       "})"
      ]
     },
     "execution_count": 6,
     "metadata": {},
     "output_type": "execute_result"
    }
   ],
   "source": [
    "# Features of Food101 from TFDS\n",
    "\n",
    "ds_info.features"
   ]
  },
  {
   "cell_type": "code",
   "execution_count": 7,
   "metadata": {
    "colab": {
     "base_uri": "https://localhost:8080/"
    },
    "executionInfo": {
     "elapsed": 16,
     "status": "ok",
     "timestamp": 1715154778923,
     "user": {
      "displayName": "Rahul Lalwani",
      "userId": "08386928599429106542"
     },
     "user_tz": -330
    },
    "id": "QxsL7_hEXYGR",
    "outputId": "7108973d-41d4-4264-9fdc-229c515dda43"
   },
   "outputs": [
    {
     "data": {
      "text/plain": [
       "['apple_pie',\n",
       " 'baby_back_ribs',\n",
       " 'baklava',\n",
       " 'beef_carpaccio',\n",
       " 'beef_tartare',\n",
       " 'beet_salad',\n",
       " 'beignets',\n",
       " 'bibimbap',\n",
       " 'bread_pudding',\n",
       " 'breakfast_burrito']"
      ]
     },
     "execution_count": 7,
     "metadata": {},
     "output_type": "execute_result"
    }
   ],
   "source": [
    "# Get the class names\n",
    "class_names = ds_info.features['label'].names\n",
    "class_names[:10]"
   ]
  },
  {
   "cell_type": "markdown",
   "metadata": {
    "id": "ASgZFjpkX93M"
   },
   "source": [
    "## Exploring the Food101 data from Tensorflow Datasets\n",
    "\n",
    "To become on with our data, we want to find:\n",
    "\n",
    "* Class names\n",
    "* The shape of our input data (image tensors)\n",
    "* The datatype of our input data\n",
    "* what the labels looks like\n",
    "* Do labels matchup with class labels"
   ]
  },
  {
   "cell_type": "code",
   "execution_count": 8,
   "metadata": {
    "colab": {
     "base_uri": "https://localhost:8080/"
    },
    "executionInfo": {
     "elapsed": 14,
     "status": "ok",
     "timestamp": 1715154778923,
     "user": {
      "displayName": "Rahul Lalwani",
      "userId": "08386928599429106542"
     },
     "user_tz": -330
    },
    "id": "n8Mfqsh4YQl8",
    "outputId": "bbd757f0-060a-4f49-c452-b48e2f1e745e"
   },
   "outputs": [
    {
     "data": {
      "text/plain": [
       "<_PrefetchDataset element_spec=(TensorSpec(shape=(None, None, 3), dtype=tf.uint8, name=None), TensorSpec(shape=(), dtype=tf.int64, name=None))>"
      ]
     },
     "execution_count": 8,
     "metadata": {},
     "output_type": "execute_result"
    }
   ],
   "source": [
    "# Take one sample of the train data\n",
    "train_data"
   ]
  },
  {
   "cell_type": "code",
   "execution_count": 9,
   "metadata": {
    "executionInfo": {
     "elapsed": 12,
     "status": "ok",
     "timestamp": 1715154778923,
     "user": {
      "displayName": "Rahul Lalwani",
      "userId": "08386928599429106542"
     },
     "user_tz": -330
    },
    "id": "SwwaBMTtY_mB"
   },
   "outputs": [],
   "source": [
    "train_one_sample = train_data.take(1) # samples are in format (image_tensor, label)"
   ]
  },
  {
   "cell_type": "code",
   "execution_count": 10,
   "metadata": {
    "colab": {
     "base_uri": "https://localhost:8080/"
    },
    "executionInfo": {
     "elapsed": 12,
     "status": "ok",
     "timestamp": 1715154778923,
     "user": {
      "displayName": "Rahul Lalwani",
      "userId": "08386928599429106542"
     },
     "user_tz": -330
    },
    "id": "AiY4eFC0ZCkX",
    "outputId": "84407019-2d5a-43ef-f7e8-7a8f1e270795"
   },
   "outputs": [
    {
     "data": {
      "text/plain": [
       "<_TakeDataset element_spec=(TensorSpec(shape=(None, None, 3), dtype=tf.uint8, name=None), TensorSpec(shape=(), dtype=tf.int64, name=None))>"
      ]
     },
     "execution_count": 10,
     "metadata": {},
     "output_type": "execute_result"
    }
   ],
   "source": [
    "train_one_sample"
   ]
  },
  {
   "cell_type": "code",
   "execution_count": 11,
   "metadata": {
    "colab": {
     "base_uri": "https://localhost:8080/"
    },
    "executionInfo": {
     "elapsed": 8,
     "status": "ok",
     "timestamp": 1715154778924,
     "user": {
      "displayName": "Rahul Lalwani",
      "userId": "08386928599429106542"
     },
     "user_tz": -330
    },
    "id": "nvW32ApgZIGH",
    "outputId": "8509a0d5-a097-40c5-905e-30349a99c65a"
   },
   "outputs": [
    {
     "name": "stdout",
     "output_type": "stream",
     "text": [
      "\n",
      "  Image Shape: (512, 512, 3),\n",
      "  Image datatype : <dtype: 'uint8'>,\n",
      "  Target class from Food101 (tensor form): 49,\n",
      "  class name (str form): grilled_cheese_sandwich\n",
      "  \n"
     ]
    }
   ],
   "source": [
    "# Output info about our training sample\n",
    "\n",
    "for image, label in train_one_sample:\n",
    "  print(f\"\"\"\n",
    "  Image Shape: {image.shape},\n",
    "  Image datatype : {image.dtype},\n",
    "  Target class from Food101 (tensor form): {label},\n",
    "  class name (str form): {class_names[label.numpy()]}\n",
    "  \"\"\")"
   ]
  },
  {
   "cell_type": "code",
   "execution_count": 12,
   "metadata": {
    "colab": {
     "base_uri": "https://localhost:8080/"
    },
    "executionInfo": {
     "elapsed": 68,
     "status": "ok",
     "timestamp": 1715154780941,
     "user": {
      "displayName": "Rahul Lalwani",
      "userId": "08386928599429106542"
     },
     "user_tz": -330
    },
    "id": "mnv-cTeDZr65",
    "outputId": "d9ac2bf5-1874-483c-a18b-169a4c987bae"
   },
   "outputs": [
    {
     "data": {
      "text/plain": [
       "<tf.Tensor: shape=(512, 512, 3), dtype=uint8, numpy=\n",
       "array([[[239, 217, 157],\n",
       "        [244, 222, 162],\n",
       "        [247, 227, 168],\n",
       "        ...,\n",
       "        [119, 104,  73],\n",
       "        [111,  95,  70],\n",
       "        [105,  89,  66]],\n",
       "\n",
       "       [[233, 212, 149],\n",
       "        [239, 218, 155],\n",
       "        [243, 223, 162],\n",
       "        ...,\n",
       "        [117, 102,  71],\n",
       "        [108,  92,  67],\n",
       "        [101,  85,  62]],\n",
       "\n",
       "       [[227, 206, 139],\n",
       "        [234, 213, 146],\n",
       "        [238, 219, 153],\n",
       "        ...,\n",
       "        [117, 100,  70],\n",
       "        [108,  91,  65],\n",
       "        [101,  83,  59]],\n",
       "\n",
       "       ...,\n",
       "\n",
       "       [[ 35,   7,  19],\n",
       "        [ 35,   7,  19],\n",
       "        [ 36,   8,  20],\n",
       "        ...,\n",
       "        [198, 181, 127],\n",
       "        [196, 179, 125],\n",
       "        [193, 176, 122]],\n",
       "\n",
       "       [[ 34,   6,  18],\n",
       "        [ 34,   6,  18],\n",
       "        [ 35,   7,  19],\n",
       "        ...,\n",
       "        [200, 183, 129],\n",
       "        [201, 184, 130],\n",
       "        [198, 181, 127]],\n",
       "\n",
       "       [[ 33,   5,  17],\n",
       "        [ 34,   6,  18],\n",
       "        [ 35,   7,  19],\n",
       "        ...,\n",
       "        [203, 186, 132],\n",
       "        [207, 190, 136],\n",
       "        [206, 189, 135]]], dtype=uint8)>"
      ]
     },
     "execution_count": 12,
     "metadata": {},
     "output_type": "execute_result"
    }
   ],
   "source": [
    "# What does our image tensor from TFDS's Food101 look like?\n",
    "image"
   ]
  },
  {
   "cell_type": "code",
   "execution_count": 13,
   "metadata": {
    "colab": {
     "base_uri": "https://localhost:8080/"
    },
    "executionInfo": {
     "elapsed": 65,
     "status": "ok",
     "timestamp": 1715154780942,
     "user": {
      "displayName": "Rahul Lalwani",
      "userId": "08386928599429106542"
     },
     "user_tz": -330
    },
    "id": "wrxhdJH_Z6bD",
    "outputId": "914398f4-288f-48c8-93b5-e63038fbec31"
   },
   "outputs": [
    {
     "data": {
      "text/plain": [
       "(<tf.Tensor: shape=(), dtype=uint8, numpy=0>,\n",
       " <tf.Tensor: shape=(), dtype=uint8, numpy=255>)"
      ]
     },
     "execution_count": 13,
     "metadata": {},
     "output_type": "execute_result"
    }
   ],
   "source": [
    "import tensorflow as tf\n",
    "tf.reduce_min(image), tf.reduce_max(image)"
   ]
  },
  {
   "cell_type": "markdown",
   "metadata": {
    "id": "buK6NCD8aAro"
   },
   "source": [
    "# plot an image from TFDS"
   ]
  },
  {
   "cell_type": "code",
   "execution_count": 14,
   "metadata": {
    "colab": {
     "base_uri": "https://localhost:8080/",
     "height": 452
    },
    "executionInfo": {
     "elapsed": 59,
     "status": "ok",
     "timestamp": 1715154780942,
     "user": {
      "displayName": "Rahul Lalwani",
      "userId": "08386928599429106542"
     },
     "user_tz": -330
    },
    "id": "459y3mDYaJNp",
    "outputId": "be95c260-be4b-434b-c700-d9928cd79ab6"
   },
   "outputs": [
    {
     "data": {
      "image/png": "[encoded data removed]",
      "text/plain": [
       "<Figure size 640x480 with 1 Axes>"
      ]
     },
     "metadata": {},
     "output_type": "display_data"
    }
   ],
   "source": [
    "# Plot an image Tensor\n",
    "import matplotlib.pyplot as plt\n",
    "plt.imshow(image)\n",
    "plt.title(class_names[label.numpy()]);"
   ]
  },
  {
   "cell_type": "markdown",
   "metadata": {
    "id": "CP5bj93BaU_S"
   },
   "source": [
    "## Create preprocessing function for our data\n",
    "\n",
    "Neural neworks perform best when data is in a certain way (e.g. batched , nromalized, etc)\n",
    "\n",
    "However, not all data (including data from Tensorflow Datasets) comes like this\n",
    "\n",
    "what we know about our data:\n",
    "\n",
    "* In `uint8` datatype\n",
    "* comprise of all differene size tensors\n",
    "* Not scaled (the pixel betweeen 0 to 255)\n",
    "\n",
    "What we know models like:\n",
    "\n",
    "* Data in `float32` dtype (or for mixed precision `float16` and `float32`)\n",
    "* for batches, Tensorflow likes all of tensors within a batch to be of same size.\n",
    "* Scaled (between 0 and 1) generally performed better\n",
    "\n",
    "\n",
    "Since we are using this for efficient netBX model we don't need to rescale our data this architecture have rescaling built in\n"
   ]
  },
  {
   "cell_type": "code",
   "execution_count": 15,
   "metadata": {
    "executionInfo": {
     "elapsed": 53,
     "status": "ok",
     "timestamp": 1715154780942,
     "user": {
      "displayName": "Rahul Lalwani",
      "userId": "08386928599429106542"
     },
     "user_tz": -330
    },
    "id": "vo-1W_Ve70hn"
   },
   "outputs": [],
   "source": [
    "def preprocess_img(image, label, img_shape = 224, efficient = True):\n",
    "  \"\"\"\n",
    "  convert image data types from unit8 to float32 and\n",
    "  reshapes image to image_shape, image_shape, color_channel\n",
    "  \"\"\"\n",
    "\n",
    "  image = tf.image.resize(image , [img_shape, img_shape])\n",
    "  if not efficient: # if not efficient net model\n",
    "    image = image/255.\n",
    "  return tf.cast(image, tf.float32), label"
   ]
  },
  {
   "cell_type": "code",
   "execution_count": 16,
   "metadata": {
    "colab": {
     "base_uri": "https://localhost:8080/"
    },
    "executionInfo": {
     "elapsed": 52,
     "status": "ok",
     "timestamp": 1715154780942,
     "user": {
      "displayName": "Rahul Lalwani",
      "userId": "08386928599429106542"
     },
     "user_tz": -330
    },
    "id": "Ur8oJQT18djW",
    "outputId": "84f8f505-17e2-4be2-b41b-a0280844328c"
   },
   "outputs": [
    {
     "name": "stdout",
     "output_type": "stream",
     "text": [
      "Image before preprocessing : \n",
      "[[[239 217 157]\n",
      "  [244 222 162]\n",
      "  [247 227 168]\n",
      "  ...\n",
      "  [119 104  73]\n",
      "  [111  95  70]\n",
      "  [105  89  66]]\n",
      "\n",
      " [[233 212 149]\n",
      "  [239 218 155]\n",
      "  [243 223 162]\n",
      "  ...\n",
      "  [117 102  71]\n",
      "  [108  92  67]\n",
      "  [101  85  62]]]..., \n",
      "shape: (512, 512, 3), \n",
      "datatype: <dtype: 'uint8'>\n",
      "Image after preprocessing : \n",
      "[[[238.7704   217.41327  155.4847  ]\n",
      "  [242.83673  222.83673  162.55101 ]\n",
      "  [240.85713  220.20918  164.2143  ]\n",
      "  ...\n",
      "  [131.28564  118.28565   75.7806  ]\n",
      "  [123.88257  109.81113   75.09689 ]\n",
      "  [106.698746  90.698746  66.4131  ]]\n",
      "\n",
      " [[232.16325  212.09183  141.37755 ]\n",
      "  [238.86224  219.86224  151.07654 ]\n",
      "  [239.94388  221.08673  155.87245 ]\n",
      "  ...\n",
      "  [127.49998  112.49998   71.07145 ]\n",
      "  [122.63767  106.56623   72.852   ]\n",
      "  [105.83142   88.47424   63.1886  ]]]..., \n",
      "shape: (224, 224, 3), \n",
      "datatype: <dtype: 'float32'>\n"
     ]
    }
   ],
   "source": [
    "# preprocess single sample\n",
    "\n",
    "preprocessed_img = preprocess_img(image, label)[0]\n",
    "\n",
    "print(f\"Image before preprocessing : \\n{image[:2]}..., \\nshape: {image.shape}, \\ndatatype: {image.dtype}\")\n",
    "print(f\"Image after preprocessing : \\n{preprocessed_img[:2]}..., \\nshape: {preprocessed_img.shape}, \\ndatatype: {preprocessed_img.dtype}\")\n"
   ]
  },
  {
   "cell_type": "markdown",
   "metadata": {
    "id": "O09scsck80z3"
   },
   "source": [
    "## Batching & prepare dataset\n",
    "\n",
    "we're now going to make our data input pipeline run really fast\n",
    "\n",
    "for more resources on this\n",
    "https://www.tensorflow.org/guide/data_performance"
   ]
  },
  {
   "cell_type": "code",
   "execution_count": 17,
   "metadata": {
    "executionInfo": {
     "elapsed": 50,
     "status": "ok",
     "timestamp": 1715154780942,
     "user": {
      "displayName": "Rahul Lalwani",
      "userId": "08386928599429106542"
     },
     "user_tz": -330
    },
    "id": "_N05GNP39O0t"
   },
   "outputs": [],
   "source": [
    "# Map preprocessing function to training (and parallalize)\n",
    "train_data = train_data.map(map_func = preprocess_img,\n",
    "                            num_parallel_calls = tf.data.AUTOTUNE) # to parallalize this into multiple CPUs if available\n",
    "\n",
    "# Shuffle train_data and turn it into batches and prefech it (load it faster)\n",
    "train_data = train_data.shuffle(buffer_size = 1000).batch(batch_size = 32).prefetch(buffer_size = tf.data.AUTOTUNE)\n",
    "\n",
    "# Map preprocessing fucntion to test data\n",
    "test_data = test_data.map(map_func  = preprocess_img,\n",
    "                          num_parallel_calls = tf.data.AUTOTUNE).batch(batch_size = 32).prefetch(buffer_size = tf.data.AUTOTUNE)"
   ]
  },
  {
   "cell_type": "code",
   "execution_count": 18,
   "metadata": {
    "colab": {
     "base_uri": "https://localhost:8080/"
    },
    "executionInfo": {
     "elapsed": 49,
     "status": "ok",
     "timestamp": 1715154780942,
     "user": {
      "displayName": "Rahul Lalwani",
      "userId": "08386928599429106542"
     },
     "user_tz": -330
    },
    "id": "Y17hiApj9sRW",
    "outputId": "6ec89606-96a5-4191-afcc-abe29d9202ea"
   },
   "outputs": [
    {
     "data": {
      "text/plain": [
       "(<_PrefetchDataset element_spec=(TensorSpec(shape=(None, 224, 224, 3), dtype=tf.float32, name=None), TensorSpec(shape=(None,), dtype=tf.int64, name=None))>,\n",
       " <_PrefetchDataset element_spec=(TensorSpec(shape=(None, 224, 224, 3), dtype=tf.float32, name=None), TensorSpec(shape=(None,), dtype=tf.int64, name=None))>)"
      ]
     },
     "execution_count": 18,
     "metadata": {},
     "output_type": "execute_result"
    }
   ],
   "source": [
    "train_data, test_data"
   ]
  },
  {
   "cell_type": "markdown",
   "metadata": {
    "id": "_S4mQPXf_ICk"
   },
   "source": [
    "> \"hey, Tensorflow, map this processing function across our training dataset, then shuffle a number of eleements and then batch tem together and finally make sure you prepare new batches (prefetch) whist the model is looking through (finding patterns ) the current batch\""
   ]
  },
  {
   "cell_type": "markdown",
   "metadata": {
    "id": "veFu8DgS_jwm"
   },
   "source": [
    "## Create modelling callbacks\n",
    "\n",
    "* TensorBoard Callback\n",
    "* Modelcheckpoint callback\n"
   ]
  },
  {
   "cell_type": "code",
   "execution_count": 19,
   "metadata": {
    "colab": {
     "base_uri": "https://localhost:8080/"
    },
    "executionInfo": {
     "elapsed": 46,
     "status": "ok",
     "timestamp": 1715154780942,
     "user": {
      "displayName": "Rahul Lalwani",
      "userId": "08386928599429106542"
     },
     "user_tz": -330
    },
    "id": "EmHW7-gWAL8F",
    "outputId": "57022394-a383-4d45-c82c-d98456121be4"
   },
   "outputs": [
    {
     "name": "stdout",
     "output_type": "stream",
     "text": [
      "Saving TensorBoard log files to: Foodvision101/food_vision_all_data_efficient/20240508-075219\n"
     ]
    }
   ],
   "source": [
    "# Create tensorboard callbacks =\n",
    "from helper_functions import create_tensorboard_callback\n",
    "tensorboard_callback = create_tensorboard_callback(dir_name = \"Foodvision101\",\n",
    "                                                   experiment_name = \"food_vision_all_data_efficient\")\n",
    "# create model checkpoint callback\n",
    "checkpoint_path = 'model_checkpoints/cp.ckpt'\n",
    "model_checkpoint = tf.keras.callbacks.ModelCheckpoint(checkpoint_path,\n",
    "                                                      monitor = 'val_accuracy',\n",
    "                                                      save_best_only = True,\n",
    "                                                      save_weights_only= True,\n",
    "                                                      verbose = 1)"
   ]
  },
  {
   "cell_type": "markdown",
   "metadata": {
    "id": "SyCxnn4DBfbC"
   },
   "source": [
    "## Setup Mixed precision training\n",
    "\n",
    "mixed precision utilizes a combination of float32 and float16 data types to speed up model performance"
   ]
  },
  {
   "cell_type": "code",
   "execution_count": 20,
   "metadata": {
    "executionInfo": {
     "elapsed": 44,
     "status": "ok",
     "timestamp": 1715154780942,
     "user": {
      "displayName": "Rahul Lalwani",
      "userId": "08386928599429106542"
     },
     "user_tz": -330
    },
    "id": "Rf-BKQ6iBoUk"
   },
   "outputs": [],
   "source": [
    "# turn on mixed precision training\n",
    "\n",
    "from tensorflow.keras import mixed_precision\n",
    "mixed_precision.set_global_policy('mixed_float16')"
   ]
  },
  {
   "cell_type": "code",
   "execution_count": 21,
   "metadata": {
    "colab": {
     "base_uri": "https://localhost:8080/"
    },
    "executionInfo": {
     "elapsed": 44,
     "status": "ok",
     "timestamp": 1715154780942,
     "user": {
      "displayName": "Rahul Lalwani",
      "userId": "08386928599429106542"
     },
     "user_tz": -330
    },
    "id": "uBuRS0dGCNup",
    "outputId": "e542507d-b91b-4349-ba9f-192c007cae19"
   },
   "outputs": [
    {
     "data": {
      "text/plain": [
       "<Policy \"mixed_float16\">"
      ]
     },
     "execution_count": 21,
     "metadata": {},
     "output_type": "execute_result"
    }
   ],
   "source": [
    "mixed_precision.global_policy()"
   ]
  },
  {
   "cell_type": "markdown",
   "metadata": {
    "id": "WJvmElVhCpKy"
   },
   "source": [
    "## Build feature extraction model"
   ]
  },
  {
   "cell_type": "code",
   "execution_count": 22,
   "metadata": {
    "colab": {
     "base_uri": "https://localhost:8080/"
    },
    "executionInfo": {
     "elapsed": 43,
     "status": "ok",
     "timestamp": 1715154780943,
     "user": {
      "displayName": "Rahul Lalwani",
      "userId": "08386928599429106542"
     },
     "user_tz": -330
    },
    "id": "SImjWB7aDMAX",
    "outputId": "b37cea13-c480-4e72-bffb-91d3f17671dd"
   },
   "outputs": [
    {
     "name": "stdout",
     "output_type": "stream",
     "text": [
      "Downloading data from https://storage.googleapis.com/keras-applications/efficientnetb0_notop.h5\n",
      "16705208/16705208 [==============================] - 0s 0us/step\n"
     ]
    }
   ],
   "source": [
    "from tensorflow.keras import layers\n",
    "from tensorflow.keras.layers.experimental import preprocessing\n",
    "\n",
    "input_shape = (224, 224, 3)\n",
    "base_model = tf.keras.applications.EfficientNetB0(include_top = False)\n",
    "base_model.trainable = False\n",
    "\n",
    "#create function model\n",
    "\n",
    "inputs = layers.Input(shape = input_shape, name = 'input_layer')\n",
    "#Note: Efficient Net Bx models have rescaling built-in but if you don't have then you can use\n",
    "# x = preprocessing.Rescaling(1./255)(x)\n",
    "\n",
    "x = base_model(inputs, training = False)\n",
    "\n",
    "x = layers.GlobalAveragePooling2D()(x)\n",
    "\n",
    "x  = layers.Dense(len(class_names))(x)\n",
    "\n",
    "outputs = layers.Activation('softmax', dtype = tf.float32, name = 'softmax_float32')(x)\n",
    "\n",
    "model = tf.keras.Model(inputs, outputs)\n",
    "\n",
    "model.compile(loss = 'sparse_categorical_crossentropy',\n",
    "              optimizer = tf.keras.optimizers.Adam(),\n",
    "              metrics = ['accuracy'])"
   ]
  },
  {
   "cell_type": "code",
   "execution_count": 23,
   "metadata": {
    "colab": {
     "base_uri": "https://localhost:8080/"
    },
    "executionInfo": {
     "elapsed": 39,
     "status": "ok",
     "timestamp": 1715154780943,
     "user": {
      "displayName": "Rahul Lalwani",
      "userId": "08386928599429106542"
     },
     "user_tz": -330
    },
    "id": "lYD9AMVDEXRJ",
    "outputId": "38645ee2-4472-432c-edc9-ef0c994047b2"
   },
   "outputs": [
    {
     "name": "stdout",
     "output_type": "stream",
     "text": [
      "Model: \"model\"\n",
      "_________________________________________________________________\n",
      " Layer (type)                Output Shape              Param #   \n",
      "=================================================================\n",
      " input_layer (InputLayer)    [(None, 224, 224, 3)]     0         \n",
      "                                                                 \n",
      " efficientnetb0 (Functional  (None, None, None, 1280   4049571   \n",
      " )                           )                                   \n",
      "                                                                 \n",
      " global_average_pooling2d (  (None, 1280)              0         \n",
      " GlobalAveragePooling2D)                                         \n",
      "                                                                 \n",
      " dense (Dense)               (None, 101)               129381    \n",
      "                                                                 \n",
      " softmax_float32 (Activatio  (None, 101)               0         \n",
      " n)                                                              \n",
      "                                                                 \n",
      "=================================================================\n",
      "Total params: 4178952 (15.94 MB)\n",
      "Trainable params: 129381 (505.39 KB)\n",
      "Non-trainable params: 4049571 (15.45 MB)\n",
      "_________________________________________________________________\n"
     ]
    }
   ],
   "source": [
    "model.summary()"
   ]
  },
  {
   "cell_type": "code",
   "execution_count": 24,
   "metadata": {
    "colab": {
     "base_uri": "https://localhost:8080/"
    },
    "executionInfo": {
     "elapsed": 34,
     "status": "ok",
     "timestamp": 1715154780943,
     "user": {
      "displayName": "Rahul Lalwani",
      "userId": "08386928599429106542"
     },
     "user_tz": -330
    },
    "id": "SpTq-UDQEYWR",
    "outputId": "54d49435-b66e-457e-bf11-54cad86fd813"
   },
   "outputs": [
    {
     "name": "stdout",
     "output_type": "stream",
     "text": [
      "input_layer float32 True <Policy \"float32\">\n",
      "efficientnetb0 float32 False <Policy \"mixed_float16\">\n",
      "global_average_pooling2d float32 True <Policy \"mixed_float16\">\n",
      "dense float32 True <Policy \"mixed_float16\">\n",
      "softmax_float32 float32 True <Policy \"float32\">\n"
     ]
    }
   ],
   "source": [
    "for layer in model.layers:\n",
    "  print(layer.name,layer.dtype, layer.trainable, layer.dtype_policy)"
   ]
  },
  {
   "cell_type": "code",
   "execution_count": 25,
   "metadata": {
    "colab": {
     "base_uri": "https://localhost:8080/"
    },
    "executionInfo": {
     "elapsed": 31,
     "status": "ok",
     "timestamp": 1715154780943,
     "user": {
      "displayName": "Rahul Lalwani",
      "userId": "08386928599429106542"
     },
     "user_tz": -330
    },
    "id": "UtmLZhNfEnkZ",
    "outputId": "9dfaddc1-799a-4453-e1c5-2e015a538614"
   },
   "outputs": [
    {
     "name": "stdout",
     "output_type": "stream",
     "text": [
      "input_layer float32 True <Policy \"float32\">\n",
      "efficientnetb0 float32 False <Policy \"mixed_float16\">\n",
      "global_average_pooling2d float32 True <Policy \"mixed_float16\">\n",
      "dense float32 True <Policy \"mixed_float16\">\n",
      "softmax_float32 float32 True <Policy \"float32\">\n"
     ]
    }
   ],
   "source": [
    "for layer in model.layers:\n",
    "  print(layer.name,layer.dtype, layer.trainable, layer.dtype_policy)"
   ]
  },
  {
   "cell_type": "code",
   "execution_count": 26,
   "metadata": {
    "colab": {
     "base_uri": "https://localhost:8080/"
    },
    "executionInfo": {
     "elapsed": 29,
     "status": "ok",
     "timestamp": 1715154780943,
     "user": {
      "displayName": "Rahul Lalwani",
      "userId": "08386928599429106542"
     },
     "user_tz": -330
    },
    "id": "iXnvFvYeFCIv",
    "outputId": "c2a2a308-d57e-487c-c9fd-5f14d8e7f25d"
   },
   "outputs": [
    {
     "name": "stdout",
     "output_type": "stream",
     "text": [
      "input_1 float32 False <Policy \"float32\">\n",
      "rescaling float32 False <Policy \"mixed_float16\">\n",
      "normalization float32 False <Policy \"mixed_float16\">\n",
      "rescaling_1 float32 False <Policy \"mixed_float16\">\n",
      "stem_conv_pad float32 False <Policy \"mixed_float16\">\n",
      "stem_conv float32 False <Policy \"mixed_float16\">\n",
      "stem_bn float32 False <Policy \"mixed_float16\">\n",
      "stem_activation float32 False <Policy \"mixed_float16\">\n",
      "block1a_dwconv float32 False <Policy \"mixed_float16\">\n",
      "block1a_bn float32 False <Policy \"mixed_float16\">\n",
      "block1a_activation float32 False <Policy \"mixed_float16\">\n",
      "block1a_se_squeeze float32 False <Policy \"mixed_float16\">\n",
      "block1a_se_reshape float32 False <Policy \"mixed_float16\">\n",
      "block1a_se_reduce float32 False <Policy \"mixed_float16\">\n",
      "block1a_se_expand float32 False <Policy \"mixed_float16\">\n",
      "block1a_se_excite float32 False <Policy \"mixed_float16\">\n",
      "block1a_project_conv float32 False <Policy \"mixed_float16\">\n",
      "block1a_project_bn float32 False <Policy \"mixed_float16\">\n",
      "block2a_expand_conv float32 False <Policy \"mixed_float16\">\n",
      "block2a_expand_bn float32 False <Policy \"mixed_float16\">\n",
      "block2a_expand_activation float32 False <Policy \"mixed_float16\">\n",
      "block2a_dwconv_pad float32 False <Policy \"mixed_float16\">\n",
      "block2a_dwconv float32 False <Policy \"mixed_float16\">\n",
      "block2a_bn float32 False <Policy \"mixed_float16\">\n",
      "block2a_activation float32 False <Policy \"mixed_float16\">\n",
      "block2a_se_squeeze float32 False <Policy \"mixed_float16\">\n",
      "block2a_se_reshape float32 False <Policy \"mixed_float16\">\n",
      "block2a_se_reduce float32 False <Policy \"mixed_float16\">\n",
      "block2a_se_expand float32 False <Policy \"mixed_float16\">\n",
      "block2a_se_excite float32 False <Policy \"mixed_float16\">\n",
      "block2a_project_conv float32 False <Policy \"mixed_float16\">\n",
      "block2a_project_bn float32 False <Policy \"mixed_float16\">\n",
      "block2b_expand_conv float32 False <Policy \"mixed_float16\">\n",
      "block2b_expand_bn float32 False <Policy \"mixed_float16\">\n",
      "block2b_expand_activation float32 False <Policy \"mixed_float16\">\n",
      "block2b_dwconv float32 False <Policy \"mixed_float16\">\n",
      "block2b_bn float32 False <Policy \"mixed_float16\">\n",
      "block2b_activation float32 False <Policy \"mixed_float16\">\n",
      "block2b_se_squeeze float32 False <Policy \"mixed_float16\">\n",
      "block2b_se_reshape float32 False <Policy \"mixed_float16\">\n",
      "block2b_se_reduce float32 False <Policy \"mixed_float16\">\n",
      "block2b_se_expand float32 False <Policy \"mixed_float16\">\n",
      "block2b_se_excite float32 False <Policy \"mixed_float16\">\n",
      "block2b_project_conv float32 False <Policy \"mixed_float16\">\n",
      "block2b_project_bn float32 False <Policy \"mixed_float16\">\n",
      "block2b_drop float32 False <Policy \"mixed_float16\">\n",
      "block2b_add float32 False <Policy \"mixed_float16\">\n",
      "block3a_expand_conv float32 False <Policy \"mixed_float16\">\n",
      "block3a_expand_bn float32 False <Policy \"mixed_float16\">\n",
      "block3a_expand_activation float32 False <Policy \"mixed_float16\">\n",
      "block3a_dwconv_pad float32 False <Policy \"mixed_float16\">\n",
      "block3a_dwconv float32 False <Policy \"mixed_float16\">\n",
      "block3a_bn float32 False <Policy \"mixed_float16\">\n",
      "block3a_activation float32 False <Policy \"mixed_float16\">\n",
      "block3a_se_squeeze float32 False <Policy \"mixed_float16\">\n",
      "block3a_se_reshape float32 False <Policy \"mixed_float16\">\n",
      "block3a_se_reduce float32 False <Policy \"mixed_float16\">\n",
      "block3a_se_expand float32 False <Policy \"mixed_float16\">\n",
      "block3a_se_excite float32 False <Policy \"mixed_float16\">\n",
      "block3a_project_conv float32 False <Policy \"mixed_float16\">\n",
      "block3a_project_bn float32 False <Policy \"mixed_float16\">\n",
      "block3b_expand_conv float32 False <Policy \"mixed_float16\">\n",
      "block3b_expand_bn float32 False <Policy \"mixed_float16\">\n",
      "block3b_expand_activation float32 False <Policy \"mixed_float16\">\n",
      "block3b_dwconv float32 False <Policy \"mixed_float16\">\n",
      "block3b_bn float32 False <Policy \"mixed_float16\">\n",
      "block3b_activation float32 False <Policy \"mixed_float16\">\n",
      "block3b_se_squeeze float32 False <Policy \"mixed_float16\">\n",
      "block3b_se_reshape float32 False <Policy \"mixed_float16\">\n",
      "block3b_se_reduce float32 False <Policy \"mixed_float16\">\n",
      "block3b_se_expand float32 False <Policy \"mixed_float16\">\n",
      "block3b_se_excite float32 False <Policy \"mixed_float16\">\n",
      "block3b_project_conv float32 False <Policy \"mixed_float16\">\n",
      "block3b_project_bn float32 False <Policy \"mixed_float16\">\n",
      "block3b_drop float32 False <Policy \"mixed_float16\">\n",
      "block3b_add float32 False <Policy \"mixed_float16\">\n",
      "block4a_expand_conv float32 False <Policy \"mixed_float16\">\n",
      "block4a_expand_bn float32 False <Policy \"mixed_float16\">\n",
      "block4a_expand_activation float32 False <Policy \"mixed_float16\">\n",
      "block4a_dwconv_pad float32 False <Policy \"mixed_float16\">\n",
      "block4a_dwconv float32 False <Policy \"mixed_float16\">\n",
      "block4a_bn float32 False <Policy \"mixed_float16\">\n",
      "block4a_activation float32 False <Policy \"mixed_float16\">\n",
      "block4a_se_squeeze float32 False <Policy \"mixed_float16\">\n",
      "block4a_se_reshape float32 False <Policy \"mixed_float16\">\n",
      "block4a_se_reduce float32 False <Policy \"mixed_float16\">\n",
      "block4a_se_expand float32 False <Policy \"mixed_float16\">\n",
      "block4a_se_excite float32 False <Policy \"mixed_float16\">\n",
      "block4a_project_conv float32 False <Policy \"mixed_float16\">\n",
      "block4a_project_bn float32 False <Policy \"mixed_float16\">\n",
      "block4b_expand_conv float32 False <Policy \"mixed_float16\">\n",
      "block4b_expand_bn float32 False <Policy \"mixed_float16\">\n",
      "block4b_expand_activation float32 False <Policy \"mixed_float16\">\n",
      "block4b_dwconv float32 False <Policy \"mixed_float16\">\n",
      "block4b_bn float32 False <Policy \"mixed_float16\">\n",
      "block4b_activation float32 False <Policy \"mixed_float16\">\n",
      "block4b_se_squeeze float32 False <Policy \"mixed_float16\">\n",
      "block4b_se_reshape float32 False <Policy \"mixed_float16\">\n",
      "block4b_se_reduce float32 False <Policy \"mixed_float16\">\n",
      "block4b_se_expand float32 False <Policy \"mixed_float16\">\n",
      "block4b_se_excite float32 False <Policy \"mixed_float16\">\n",
      "block4b_project_conv float32 False <Policy \"mixed_float16\">\n",
      "block4b_project_bn float32 False <Policy \"mixed_float16\">\n",
      "block4b_drop float32 False <Policy \"mixed_float16\">\n",
      "block4b_add float32 False <Policy \"mixed_float16\">\n",
      "block4c_expand_conv float32 False <Policy \"mixed_float16\">\n",
      "block4c_expand_bn float32 False <Policy \"mixed_float16\">\n",
      "block4c_expand_activation float32 False <Policy \"mixed_float16\">\n",
      "block4c_dwconv float32 False <Policy \"mixed_float16\">\n",
      "block4c_bn float32 False <Policy \"mixed_float16\">\n",
      "block4c_activation float32 False <Policy \"mixed_float16\">\n",
      "block4c_se_squeeze float32 False <Policy \"mixed_float16\">\n",
      "block4c_se_reshape float32 False <Policy \"mixed_float16\">\n",
      "block4c_se_reduce float32 False <Policy \"mixed_float16\">\n",
      "block4c_se_expand float32 False <Policy \"mixed_float16\">\n",
      "block4c_se_excite float32 False <Policy \"mixed_float16\">\n",
      "block4c_project_conv float32 False <Policy \"mixed_float16\">\n",
      "block4c_project_bn float32 False <Policy \"mixed_float16\">\n",
      "block4c_drop float32 False <Policy \"mixed_float16\">\n",
      "block4c_add float32 False <Policy \"mixed_float16\">\n",
      "block5a_expand_conv float32 False <Policy \"mixed_float16\">\n",
      "block5a_expand_bn float32 False <Policy \"mixed_float16\">\n",
      "block5a_expand_activation float32 False <Policy \"mixed_float16\">\n",
      "block5a_dwconv float32 False <Policy \"mixed_float16\">\n",
      "block5a_bn float32 False <Policy \"mixed_float16\">\n",
      "block5a_activation float32 False <Policy \"mixed_float16\">\n",
      "block5a_se_squeeze float32 False <Policy \"mixed_float16\">\n",
      "block5a_se_reshape float32 False <Policy \"mixed_float16\">\n",
      "block5a_se_reduce float32 False <Policy \"mixed_float16\">\n",
      "block5a_se_expand float32 False <Policy \"mixed_float16\">\n",
      "block5a_se_excite float32 False <Policy \"mixed_float16\">\n",
      "block5a_project_conv float32 False <Policy \"mixed_float16\">\n",
      "block5a_project_bn float32 False <Policy \"mixed_float16\">\n",
      "block5b_expand_conv float32 False <Policy \"mixed_float16\">\n",
      "block5b_expand_bn float32 False <Policy \"mixed_float16\">\n",
      "block5b_expand_activation float32 False <Policy \"mixed_float16\">\n",
      "block5b_dwconv float32 False <Policy \"mixed_float16\">\n",
      "block5b_bn float32 False <Policy \"mixed_float16\">\n",
      "block5b_activation float32 False <Policy \"mixed_float16\">\n",
      "block5b_se_squeeze float32 False <Policy \"mixed_float16\">\n",
      "block5b_se_reshape float32 False <Policy \"mixed_float16\">\n",
      "block5b_se_reduce float32 False <Policy \"mixed_float16\">\n",
      "block5b_se_expand float32 False <Policy \"mixed_float16\">\n",
      "block5b_se_excite float32 False <Policy \"mixed_float16\">\n",
      "block5b_project_conv float32 False <Policy \"mixed_float16\">\n",
      "block5b_project_bn float32 False <Policy \"mixed_float16\">\n",
      "block5b_drop float32 False <Policy \"mixed_float16\">\n",
      "block5b_add float32 False <Policy \"mixed_float16\">\n",
      "block5c_expand_conv float32 False <Policy \"mixed_float16\">\n",
      "block5c_expand_bn float32 False <Policy \"mixed_float16\">\n",
      "block5c_expand_activation float32 False <Policy \"mixed_float16\">\n",
      "block5c_dwconv float32 False <Policy \"mixed_float16\">\n",
      "block5c_bn float32 False <Policy \"mixed_float16\">\n",
      "block5c_activation float32 False <Policy \"mixed_float16\">\n",
      "block5c_se_squeeze float32 False <Policy \"mixed_float16\">\n",
      "block5c_se_reshape float32 False <Policy \"mixed_float16\">\n",
      "block5c_se_reduce float32 False <Policy \"mixed_float16\">\n",
      "block5c_se_expand float32 False <Policy \"mixed_float16\">\n",
      "block5c_se_excite float32 False <Policy \"mixed_float16\">\n",
      "block5c_project_conv float32 False <Policy \"mixed_float16\">\n",
      "block5c_project_bn float32 False <Policy \"mixed_float16\">\n",
      "block5c_drop float32 False <Policy \"mixed_float16\">\n",
      "block5c_add float32 False <Policy \"mixed_float16\">\n",
      "block6a_expand_conv float32 False <Policy \"mixed_float16\">\n",
      "block6a_expand_bn float32 False <Policy \"mixed_float16\">\n",
      "block6a_expand_activation float32 False <Policy \"mixed_float16\">\n",
      "block6a_dwconv_pad float32 False <Policy \"mixed_float16\">\n",
      "block6a_dwconv float32 False <Policy \"mixed_float16\">\n",
      "block6a_bn float32 False <Policy \"mixed_float16\">\n",
      "block6a_activation float32 False <Policy \"mixed_float16\">\n",
      "block6a_se_squeeze float32 False <Policy \"mixed_float16\">\n",
      "block6a_se_reshape float32 False <Policy \"mixed_float16\">\n",
      "block6a_se_reduce float32 False <Policy \"mixed_float16\">\n",
      "block6a_se_expand float32 False <Policy \"mixed_float16\">\n",
      "block6a_se_excite float32 False <Policy \"mixed_float16\">\n",
      "block6a_project_conv float32 False <Policy \"mixed_float16\">\n",
      "block6a_project_bn float32 False <Policy \"mixed_float16\">\n",
      "block6b_expand_conv float32 False <Policy \"mixed_float16\">\n",
      "block6b_expand_bn float32 False <Policy \"mixed_float16\">\n",
      "block6b_expand_activation float32 False <Policy \"mixed_float16\">\n",
      "block6b_dwconv float32 False <Policy \"mixed_float16\">\n",
      "block6b_bn float32 False <Policy \"mixed_float16\">\n",
      "block6b_activation float32 False <Policy \"mixed_float16\">\n",
      "block6b_se_squeeze float32 False <Policy \"mixed_float16\">\n",
      "block6b_se_reshape float32 False <Policy \"mixed_float16\">\n",
      "block6b_se_reduce float32 False <Policy \"mixed_float16\">\n",
      "block6b_se_expand float32 False <Policy \"mixed_float16\">\n",
      "block6b_se_excite float32 False <Policy \"mixed_float16\">\n",
      "block6b_project_conv float32 False <Policy \"mixed_float16\">\n",
      "block6b_project_bn float32 False <Policy \"mixed_float16\">\n",
      "block6b_drop float32 False <Policy \"mixed_float16\">\n",
      "block6b_add float32 False <Policy \"mixed_float16\">\n",
      "block6c_expand_conv float32 False <Policy \"mixed_float16\">\n",
      "block6c_expand_bn float32 False <Policy \"mixed_float16\">\n",
      "block6c_expand_activation float32 False <Policy \"mixed_float16\">\n",
      "block6c_dwconv float32 False <Policy \"mixed_float16\">\n",
      "block6c_bn float32 False <Policy \"mixed_float16\">\n",
      "block6c_activation float32 False <Policy \"mixed_float16\">\n",
      "block6c_se_squeeze float32 False <Policy \"mixed_float16\">\n",
      "block6c_se_reshape float32 False <Policy \"mixed_float16\">\n",
      "block6c_se_reduce float32 False <Policy \"mixed_float16\">\n",
      "block6c_se_expand float32 False <Policy \"mixed_float16\">\n",
      "block6c_se_excite float32 False <Policy \"mixed_float16\">\n",
      "block6c_project_conv float32 False <Policy \"mixed_float16\">\n",
      "block6c_project_bn float32 False <Policy \"mixed_float16\">\n",
      "block6c_drop float32 False <Policy \"mixed_float16\">\n",
      "block6c_add float32 False <Policy \"mixed_float16\">\n",
      "block6d_expand_conv float32 False <Policy \"mixed_float16\">\n",
      "block6d_expand_bn float32 False <Policy \"mixed_float16\">\n",
      "block6d_expand_activation float32 False <Policy \"mixed_float16\">\n",
      "block6d_dwconv float32 False <Policy \"mixed_float16\">\n",
      "block6d_bn float32 False <Policy \"mixed_float16\">\n",
      "block6d_activation float32 False <Policy \"mixed_float16\">\n",
      "block6d_se_squeeze float32 False <Policy \"mixed_float16\">\n",
      "block6d_se_reshape float32 False <Policy \"mixed_float16\">\n",
      "block6d_se_reduce float32 False <Policy \"mixed_float16\">\n",
      "block6d_se_expand float32 False <Policy \"mixed_float16\">\n",
      "block6d_se_excite float32 False <Policy \"mixed_float16\">\n",
      "block6d_project_conv float32 False <Policy \"mixed_float16\">\n",
      "block6d_project_bn float32 False <Policy \"mixed_float16\">\n",
      "block6d_drop float32 False <Policy \"mixed_float16\">\n",
      "block6d_add float32 False <Policy \"mixed_float16\">\n",
      "block7a_expand_conv float32 False <Policy \"mixed_float16\">\n",
      "block7a_expand_bn float32 False <Policy \"mixed_float16\">\n",
      "block7a_expand_activation float32 False <Policy \"mixed_float16\">\n",
      "block7a_dwconv float32 False <Policy \"mixed_float16\">\n",
      "block7a_bn float32 False <Policy \"mixed_float16\">\n",
      "block7a_activation float32 False <Policy \"mixed_float16\">\n",
      "block7a_se_squeeze float32 False <Policy \"mixed_float16\">\n",
      "block7a_se_reshape float32 False <Policy \"mixed_float16\">\n",
      "block7a_se_reduce float32 False <Policy \"mixed_float16\">\n",
      "block7a_se_expand float32 False <Policy \"mixed_float16\">\n",
      "block7a_se_excite float32 False <Policy \"mixed_float16\">\n",
      "block7a_project_conv float32 False <Policy \"mixed_float16\">\n",
      "block7a_project_bn float32 False <Policy \"mixed_float16\">\n",
      "top_conv float32 False <Policy \"mixed_float16\">\n",
      "top_bn float32 False <Policy \"mixed_float16\">\n",
      "top_activation float32 False <Policy \"mixed_float16\">\n"
     ]
    }
   ],
   "source": [
    "for layer in model.layers[1].layers:\n",
    "  print(layer.name,layer.dtype, layer.trainable, layer.dtype_policy)"
   ]
  },
  {
   "cell_type": "markdown",
   "metadata": {
    "id": "DhuQZhaBFIcX"
   },
   "source": [
    "# fit the feature extraction model\n",
    "\n",
    "fit we have to feature extraction model and after that use that trained model to fine tune for next some epochs"
   ]
  },
  {
   "cell_type": "code",
   "execution_count": 27,
   "metadata": {
    "colab": {
     "base_uri": "https://localhost:8080/"
    },
    "executionInfo": {
     "elapsed": 624531,
     "status": "ok",
     "timestamp": 1715155405447,
     "user": {
      "displayName": "Rahul Lalwani",
      "userId": "08386928599429106542"
     },
     "user_tz": -330
    },
    "id": "6OrllEZ_FxCc",
    "outputId": "be99b6a7-5a4b-41d4-cf0f-c637281f008b"
   },
   "outputs": [
    {
     "name": "stdout",
     "output_type": "stream",
     "text": [
      "Epoch 1/3\n",
      "2368/2368 [==============================] - ETA: 0s - loss: 1.7177 - accuracy: 0.5812\n",
      "Epoch 1: val_accuracy improved from -inf to 0.69809, saving model to model_checkpoints/cp.ckpt\n",
      "2368/2368 [==============================] - 219s 84ms/step - loss: 1.7177 - accuracy: 0.5812 - val_loss: 1.1281 - val_accuracy: 0.6981\n",
      "Epoch 2/3\n",
      "2367/2368 [============================>.] - ETA: 0s - loss: 1.1989 - accuracy: 0.6885\n",
      "Epoch 2: val_accuracy improved from 0.69809 to 0.71610, saving model to model_checkpoints/cp.ckpt\n",
      "2368/2368 [==============================] - 183s 77ms/step - loss: 1.1989 - accuracy: 0.6885 - val_loss: 1.0278 - val_accuracy: 0.7161\n",
      "Epoch 3/3\n",
      "2368/2368 [==============================] - ETA: 0s - loss: 1.0538 - accuracy: 0.7249\n",
      "Epoch 3: val_accuracy improved from 0.71610 to 0.72643, saving model to model_checkpoints/cp.ckpt\n",
      "2368/2368 [==============================] - 182s 76ms/step - loss: 1.0538 - accuracy: 0.7249 - val_loss: 0.9936 - val_accuracy: 0.7264\n"
     ]
    }
   ],
   "source": [
    "# Fit features extraction model with callbacks\n",
    "\n",
    "history_101_food_classes_feature_extract = model.fit(train_data,\n",
    "                                                     steps_per_epoch = len(train_data),\n",
    "                                                     validation_data = test_data,\n",
    "                                                     validation_steps = int(0.15 * len(test_data)),\n",
    "                                                     callbacks = [tensorboard_callback , model_checkpoint],\n",
    "                                                     epochs = 3)"
   ]
  },
  {
   "cell_type": "code",
   "execution_count": 29,
   "metadata": {
    "colab": {
     "base_uri": "https://localhost:8080/"
    },
    "executionInfo": {
     "elapsed": 82408,
     "status": "ok",
     "timestamp": 1715155532225,
     "user": {
      "displayName": "Rahul Lalwani",
      "userId": "08386928599429106542"
     },
     "user_tz": -330
    },
    "id": "U-xFQYBRGbZw",
    "outputId": "d1126a13-2365-46f8-e3a1-d56e2fc7f129"
   },
   "outputs": [
    {
     "name": "stdout",
     "output_type": "stream",
     "text": [
      "790/790 [==============================] - 61s 77ms/step - loss: 0.9995 - accuracy: 0.7276\n"
     ]
    },
    {
     "data": {
      "text/plain": [
       "[0.9995489716529846, 0.7276039719581604]"
      ]
     },
     "execution_count": 29,
     "metadata": {},
     "output_type": "execute_result"
    }
   ],
   "source": [
    "results_feature_extract_model = model.evaluate(test_data)\n",
    "results_feature_extract_model"
   ]
  },
  {
   "cell_type": "markdown",
   "metadata": {
    "id": "Ys1wYib4Osih"
   },
   "source": [
    "## Fine Tuning"
   ]
  },
  {
   "cell_type": "code",
   "execution_count": 34,
   "metadata": {
    "executionInfo": {
     "elapsed": 660,
     "status": "ok",
     "timestamp": 1715155786282,
     "user": {
      "displayName": "Rahul Lalwani",
      "userId": "08386928599429106542"
     },
     "user_tz": -330
    },
    "id": "qUC-41tqO8Ev"
   },
   "outputs": [],
   "source": [
    "base_model.trainable = True\n",
    "\n",
    "for layer in base_model.layers[:-5]:\n",
    "  layer.trainable = False\n",
    "\n"
   ]
  },
  {
   "cell_type": "code",
   "execution_count": 35,
   "metadata": {
    "executionInfo": {
     "elapsed": 9,
     "status": "ok",
     "timestamp": 1715155788271,
     "user": {
      "displayName": "Rahul Lalwani",
      "userId": "08386928599429106542"
     },
     "user_tz": -330
    },
    "id": "kC5Kk250PfAQ"
   },
   "outputs": [],
   "source": [
    "model.compile(loss = 'sparse_categorical_crossentropy',\n",
    "              optimizer = 'adam',\n",
    "              metrics = ['accuracy'])\n"
   ]
  },
  {
   "cell_type": "code",
   "execution_count": 36,
   "metadata": {
    "colab": {
     "base_uri": "https://localhost:8080/"
    },
    "executionInfo": {
     "elapsed": 6,
     "status": "ok",
     "timestamp": 1715155790040,
     "user": {
      "displayName": "Rahul Lalwani",
      "userId": "08386928599429106542"
     },
     "user_tz": -330
    },
    "id": "ay72ZapqPlFQ",
    "outputId": "e8274b3d-546f-4999-c4c0-099a43928194"
   },
   "outputs": [
    {
     "name": "stdout",
     "output_type": "stream",
     "text": [
      "input_layer True\n",
      "efficientnetb0 True\n",
      "global_average_pooling2d True\n",
      "dense True\n",
      "softmax_float32 True\n"
     ]
    }
   ],
   "source": [
    "for layer in model.layers:\n",
    "  print(layer.name, layer.trainable)"
   ]
  },
  {
   "cell_type": "code",
   "execution_count": 37,
   "metadata": {
    "colab": {
     "base_uri": "https://localhost:8080/"
    },
    "executionInfo": {
     "elapsed": 3,
     "status": "ok",
     "timestamp": 1715155790538,
     "user": {
      "displayName": "Rahul Lalwani",
      "userId": "08386928599429106542"
     },
     "user_tz": -330
    },
    "id": "q-BBMwSgPooh",
    "outputId": "bba4cbba-c420-4eb9-d717-78310d33a25b"
   },
   "outputs": [
    {
     "name": "stdout",
     "output_type": "stream",
     "text": [
      "input_1 False\n",
      "rescaling False\n",
      "normalization False\n",
      "rescaling_1 False\n",
      "stem_conv_pad False\n",
      "stem_conv False\n",
      "stem_bn False\n",
      "stem_activation False\n",
      "block1a_dwconv False\n",
      "block1a_bn False\n",
      "block1a_activation False\n",
      "block1a_se_squeeze False\n",
      "block1a_se_reshape False\n",
      "block1a_se_reduce False\n",
      "block1a_se_expand False\n",
      "block1a_se_excite False\n",
      "block1a_project_conv False\n",
      "block1a_project_bn False\n",
      "block2a_expand_conv False\n",
      "block2a_expand_bn False\n",
      "block2a_expand_activation False\n",
      "block2a_dwconv_pad False\n",
      "block2a_dwconv False\n",
      "block2a_bn False\n",
      "block2a_activation False\n",
      "block2a_se_squeeze False\n",
      "block2a_se_reshape False\n",
      "block2a_se_reduce False\n",
      "block2a_se_expand False\n",
      "block2a_se_excite False\n",
      "block2a_project_conv False\n",
      "block2a_project_bn False\n",
      "block2b_expand_conv False\n",
      "block2b_expand_bn False\n",
      "block2b_expand_activation False\n",
      "block2b_dwconv False\n",
      "block2b_bn False\n",
      "block2b_activation False\n",
      "block2b_se_squeeze False\n",
      "block2b_se_reshape False\n",
      "block2b_se_reduce False\n",
      "block2b_se_expand False\n",
      "block2b_se_excite False\n",
      "block2b_project_conv False\n",
      "block2b_project_bn False\n",
      "block2b_drop False\n",
      "block2b_add False\n",
      "block3a_expand_conv False\n",
      "block3a_expand_bn False\n",
      "block3a_expand_activation False\n",
      "block3a_dwconv_pad False\n",
      "block3a_dwconv False\n",
      "block3a_bn False\n",
      "block3a_activation False\n",
      "block3a_se_squeeze False\n",
      "block3a_se_reshape False\n",
      "block3a_se_reduce False\n",
      "block3a_se_expand False\n",
      "block3a_se_excite False\n",
      "block3a_project_conv False\n",
      "block3a_project_bn False\n",
      "block3b_expand_conv False\n",
      "block3b_expand_bn False\n",
      "block3b_expand_activation False\n",
      "block3b_dwconv False\n",
      "block3b_bn False\n",
      "block3b_activation False\n",
      "block3b_se_squeeze False\n",
      "block3b_se_reshape False\n",
      "block3b_se_reduce False\n",
      "block3b_se_expand False\n",
      "block3b_se_excite False\n",
      "block3b_project_conv False\n",
      "block3b_project_bn False\n",
      "block3b_drop False\n",
      "block3b_add False\n",
      "block4a_expand_conv False\n",
      "block4a_expand_bn False\n",
      "block4a_expand_activation False\n",
      "block4a_dwconv_pad False\n",
      "block4a_dwconv False\n",
      "block4a_bn False\n",
      "block4a_activation False\n",
      "block4a_se_squeeze False\n",
      "block4a_se_reshape False\n",
      "block4a_se_reduce False\n",
      "block4a_se_expand False\n",
      "block4a_se_excite False\n",
      "block4a_project_conv False\n",
      "block4a_project_bn False\n",
      "block4b_expand_conv False\n",
      "block4b_expand_bn False\n",
      "block4b_expand_activation False\n",
      "block4b_dwconv False\n",
      "block4b_bn False\n",
      "block4b_activation False\n",
      "block4b_se_squeeze False\n",
      "block4b_se_reshape False\n",
      "block4b_se_reduce False\n",
      "block4b_se_expand False\n",
      "block4b_se_excite False\n",
      "block4b_project_conv False\n",
      "block4b_project_bn False\n",
      "block4b_drop False\n",
      "block4b_add False\n",
      "block4c_expand_conv False\n",
      "block4c_expand_bn False\n",
      "block4c_expand_activation False\n",
      "block4c_dwconv False\n",
      "block4c_bn False\n",
      "block4c_activation False\n",
      "block4c_se_squeeze False\n",
      "block4c_se_reshape False\n",
      "block4c_se_reduce False\n",
      "block4c_se_expand False\n",
      "block4c_se_excite False\n",
      "block4c_project_conv False\n",
      "block4c_project_bn False\n",
      "block4c_drop False\n",
      "block4c_add False\n",
      "block5a_expand_conv False\n",
      "block5a_expand_bn False\n",
      "block5a_expand_activation False\n",
      "block5a_dwconv False\n",
      "block5a_bn False\n",
      "block5a_activation False\n",
      "block5a_se_squeeze False\n",
      "block5a_se_reshape False\n",
      "block5a_se_reduce False\n",
      "block5a_se_expand False\n",
      "block5a_se_excite False\n",
      "block5a_project_conv False\n",
      "block5a_project_bn False\n",
      "block5b_expand_conv False\n",
      "block5b_expand_bn False\n",
      "block5b_expand_activation False\n",
      "block5b_dwconv False\n",
      "block5b_bn False\n",
      "block5b_activation False\n",
      "block5b_se_squeeze False\n",
      "block5b_se_reshape False\n",
      "block5b_se_reduce False\n",
      "block5b_se_expand False\n",
      "block5b_se_excite False\n",
      "block5b_project_conv False\n",
      "block5b_project_bn False\n",
      "block5b_drop False\n",
      "block5b_add False\n",
      "block5c_expand_conv False\n",
      "block5c_expand_bn False\n",
      "block5c_expand_activation False\n",
      "block5c_dwconv False\n",
      "block5c_bn False\n",
      "block5c_activation False\n",
      "block5c_se_squeeze False\n",
      "block5c_se_reshape False\n",
      "block5c_se_reduce False\n",
      "block5c_se_expand False\n",
      "block5c_se_excite False\n",
      "block5c_project_conv False\n",
      "block5c_project_bn False\n",
      "block5c_drop False\n",
      "block5c_add False\n",
      "block6a_expand_conv False\n",
      "block6a_expand_bn False\n",
      "block6a_expand_activation False\n",
      "block6a_dwconv_pad False\n",
      "block6a_dwconv False\n",
      "block6a_bn False\n",
      "block6a_activation False\n",
      "block6a_se_squeeze False\n",
      "block6a_se_reshape False\n",
      "block6a_se_reduce False\n",
      "block6a_se_expand False\n",
      "block6a_se_excite False\n",
      "block6a_project_conv False\n",
      "block6a_project_bn False\n",
      "block6b_expand_conv False\n",
      "block6b_expand_bn False\n",
      "block6b_expand_activation False\n",
      "block6b_dwconv False\n",
      "block6b_bn False\n",
      "block6b_activation False\n",
      "block6b_se_squeeze False\n",
      "block6b_se_reshape False\n",
      "block6b_se_reduce False\n",
      "block6b_se_expand False\n",
      "block6b_se_excite False\n",
      "block6b_project_conv False\n",
      "block6b_project_bn False\n",
      "block6b_drop False\n",
      "block6b_add False\n",
      "block6c_expand_conv False\n",
      "block6c_expand_bn False\n",
      "block6c_expand_activation False\n",
      "block6c_dwconv False\n",
      "block6c_bn False\n",
      "block6c_activation False\n",
      "block6c_se_squeeze False\n",
      "block6c_se_reshape False\n",
      "block6c_se_reduce False\n",
      "block6c_se_expand False\n",
      "block6c_se_excite False\n",
      "block6c_project_conv False\n",
      "block6c_project_bn False\n",
      "block6c_drop False\n",
      "block6c_add False\n",
      "block6d_expand_conv False\n",
      "block6d_expand_bn False\n",
      "block6d_expand_activation False\n",
      "block6d_dwconv False\n",
      "block6d_bn False\n",
      "block6d_activation False\n",
      "block6d_se_squeeze False\n",
      "block6d_se_reshape False\n",
      "block6d_se_reduce False\n",
      "block6d_se_expand False\n",
      "block6d_se_excite False\n",
      "block6d_project_conv False\n",
      "block6d_project_bn False\n",
      "block6d_drop False\n",
      "block6d_add False\n",
      "block7a_expand_conv False\n",
      "block7a_expand_bn False\n",
      "block7a_expand_activation False\n",
      "block7a_dwconv False\n",
      "block7a_bn False\n",
      "block7a_activation False\n",
      "block7a_se_squeeze False\n",
      "block7a_se_reshape False\n",
      "block7a_se_reduce False\n",
      "block7a_se_expand False\n",
      "block7a_se_excite False\n",
      "block7a_project_conv True\n",
      "block7a_project_bn True\n",
      "top_conv True\n",
      "top_bn True\n",
      "top_activation True\n"
     ]
    }
   ],
   "source": [
    "for layer in model.layers[1].layers:\n",
    "  print(layer.name, layer.trainable)"
   ]
  },
  {
   "cell_type": "code",
   "execution_count": 38,
   "metadata": {
    "executionInfo": {
     "elapsed": 2,
     "status": "ok",
     "timestamp": 1715155966054,
     "user": {
      "displayName": "Rahul Lalwani",
      "userId": "08386928599429106542"
     },
     "user_tz": -330
    },
    "id": "cEbXCQpKQwuj"
   },
   "outputs": [],
   "source": [
    "checkpoint_path = 'model_checkpoints/cp_fine_tune_last_5.ckpt'\n",
    "model_checkpoint = tf.keras.callbacks.ModelCheckpoint(checkpoint_path,\n",
    "                                                      monitor = 'val_accuracy',\n",
    "                                                      save_best_only = True,\n",
    "                                                      save_weights_only= True,\n",
    "                                                      verbose = 1)"
   ]
  },
  {
   "cell_type": "code",
   "execution_count": 39,
   "metadata": {
    "colab": {
     "base_uri": "https://localhost:8080/"
    },
    "executionInfo": {
     "elapsed": 1238490,
     "status": "ok",
     "timestamp": 1715157279809,
     "user": {
      "displayName": "Rahul Lalwani",
      "userId": "08386928599429106542"
     },
     "user_tz": -330
    },
    "id": "tJZPydqzPuIx",
    "outputId": "4e2c1d77-dad2-437b-eca4-b35d262cc302"
   },
   "outputs": [
    {
     "name": "stdout",
     "output_type": "stream",
     "text": [
      "Saving TensorBoard log files to: Foodvision101/food_vision_all_data_fine_tuning_last_5_layers/20240508-081402\n",
      "Epoch 3/8\n",
      "2368/2368 [==============================] - ETA: 0s - loss: 1.1992 - accuracy: 0.6813\n",
      "Epoch 3: val_accuracy improved from -inf to 0.70710, saving model to model_checkpoints/cp_fine_tune_last_5.ckpt\n",
      "2368/2368 [==============================] - 208s 83ms/step - loss: 1.1992 - accuracy: 0.6813 - val_loss: 1.0278 - val_accuracy: 0.7071\n",
      "Epoch 4/8\n",
      "2368/2368 [==============================] - ETA: 0s - loss: 0.8755 - accuracy: 0.7584\n",
      "Epoch 4: val_accuracy improved from 0.70710 to 0.73861, saving model to model_checkpoints/cp_fine_tune_last_5.ckpt\n",
      "2368/2368 [==============================] - 184s 77ms/step - loss: 0.8755 - accuracy: 0.7584 - val_loss: 0.9858 - val_accuracy: 0.7386\n",
      "Epoch 5/8\n",
      "2368/2368 [==============================] - ETA: 0s - loss: 0.6714 - accuracy: 0.8086\n",
      "Epoch 5: val_accuracy did not improve from 0.73861\n",
      "2368/2368 [==============================] - 185s 77ms/step - loss: 0.6714 - accuracy: 0.8086 - val_loss: 1.0155 - val_accuracy: 0.7256\n",
      "Epoch 6/8\n",
      "2367/2368 [============================>.] - ETA: 0s - loss: 0.5180 - accuracy: 0.8470\n",
      "Epoch 6: val_accuracy did not improve from 0.73861\n",
      "2368/2368 [==============================] - 250s 105ms/step - loss: 0.5180 - accuracy: 0.8470 - val_loss: 1.0690 - val_accuracy: 0.7272\n",
      "Epoch 7/8\n",
      "2368/2368 [==============================] - ETA: 0s - loss: 0.3995 - accuracy: 0.8787\n",
      "Epoch 7: val_accuracy did not improve from 0.73861\n",
      "2368/2368 [==============================] - 189s 79ms/step - loss: 0.3995 - accuracy: 0.8787 - val_loss: 1.1791 - val_accuracy: 0.7148\n",
      "Epoch 8/8\n",
      "2367/2368 [============================>.] - ETA: 0s - loss: 0.3229 - accuracy: 0.8991\n",
      "Epoch 8: val_accuracy did not improve from 0.73861\n",
      "2368/2368 [==============================] - 179s 75ms/step - loss: 0.3229 - accuracy: 0.8992 - val_loss: 1.2696 - val_accuracy: 0.7121\n"
     ]
    }
   ],
   "source": [
    "fine_tune_epoch = 8\n",
    "history_101_food_classes_fine_tune = model.fit(train_data,\n",
    "                                               steps_per_epoch = len(train_data),\n",
    "                                               validation_data = test_data,\n",
    "                                               validation_steps = int(0.15 * len(test_data)),\n",
    "                                               epochs = fine_tune_epoch,\n",
    "                                               callbacks = [create_tensorboard_callback(dir_name = \"Foodvision101\",\n",
    "                                                                                        experiment_name = \"food_vision_all_data_fine_tuning_last_5_layers\"),\n",
    "                                                            model_checkpoint],\n",
    "                                               initial_epoch = history_101_food_classes_feature_extract.epoch[-1])"
   ]
  },
  {
   "cell_type": "code",
   "execution_count": 40,
   "metadata": {
    "colab": {
     "base_uri": "https://localhost:8080/"
    },
    "executionInfo": {
     "elapsed": 55044,
     "status": "ok",
     "timestamp": 1715157434036,
     "user": {
      "displayName": "Rahul Lalwani",
      "userId": "08386928599429106542"
     },
     "user_tz": -330
    },
    "id": "GKF4spWhUEEH",
    "outputId": "47c94b1b-3375-4ad2-8aaf-f929a1905565"
   },
   "outputs": [
    {
     "name": "stdout",
     "output_type": "stream",
     "text": [
      "790/790 [==============================] - 55s 69ms/step - loss: 1.2634 - accuracy: 0.7186\n"
     ]
    },
    {
     "data": {
      "text/plain": [
       "[1.263432502746582, 0.718613862991333]"
      ]
     },
     "execution_count": 40,
     "metadata": {},
     "output_type": "execute_result"
    }
   ],
   "source": [
    "#Evaluate on test data\n",
    "model.evaluate(test_data)"
   ]
  },
  {
   "cell_type": "code",
   "execution_count": 43,
   "metadata": {
    "colab": {
     "base_uri": "https://localhost:8080/",
     "height": 682
    },
    "executionInfo": {
     "elapsed": 2529,
     "status": "ok",
     "timestamp": 1715157470297,
     "user": {
      "displayName": "Rahul Lalwani",
      "userId": "08386928599429106542"
     },
     "user_tz": -330
    },
    "id": "2gmnjDssRDoW",
    "outputId": "25929419-8510-40a2-80e5-4e45561a2841"
   },
   "outputs": [
    {
     "data": {
      "image/png": "[encoded data removed]",
      "text/plain": [
       "<Figure size 800x800 with 2 Axes>"
      ]
     },
     "metadata": {},
     "output_type": "display_data"
    }
   ],
   "source": [
    "compare_historys(original_history = history_101_food_classes_feature_extract,\n",
    "                 new_history = history_101_food_classes_fine_tune,\n",
    "                 initial_epochs = 4)"
   ]
  },
  {
   "cell_type": "markdown",
   "metadata": {
    "id": "5Vb5UGKIWZKD"
   },
   "source": [
    "## it looks like model is over fitting let's revert it back and unfreeze 10 layer and then retrain in for 3 more epochs"
   ]
  },
  {
   "cell_type": "code",
   "execution_count": 47,
   "metadata": {
    "colab": {
     "base_uri": "https://localhost:8080/"
    },
    "executionInfo": {
     "elapsed": 682,
     "status": "ok",
     "timestamp": 1715157873723,
     "user": {
      "displayName": "Rahul Lalwani",
      "userId": "08386928599429106542"
     },
     "user_tz": -330
    },
    "id": "p9wKIqgzWsib",
    "outputId": "aa5e55d6-54d7-408c-af71-3b966fce5eda"
   },
   "outputs": [
    {
     "name": "stderr",
     "output_type": "stream",
     "text": [
      "WARNING:tensorflow:Detecting that an object or model or tf.train.Checkpoint is being deleted with unrestored values. See the following logs for the specific values in question. To silence these warnings, use `status.expect_partial()`. See https://www.tensorflow.org/api_docs/python/tf/train/Checkpoint#restorefor details about the status object returned by the restore function.\n",
      "WARNING:tensorflow:Value in checkpoint could not be found in the restored object: (root).optimizer._variables.1\n",
      "WARNING:tensorflow:Value in checkpoint could not be found in the restored object: (root).optimizer._variables.2\n",
      "WARNING:tensorflow:Value in checkpoint could not be found in the restored object: (root).optimizer._variables.3\n",
      "WARNING:tensorflow:Value in checkpoint could not be found in the restored object: (root).optimizer._variables.4\n"
     ]
    }
   ],
   "source": [
    "base_model.trainable = False\n",
    "model.compile(loss = 'sparse_categorical_crossentropy',\n",
    "              optimizer = 'adam',\n",
    "              metrics = ['accuracy'])\n"
   ]
  },
  {
   "cell_type": "code",
   "execution_count": 48,
   "metadata": {
    "colab": {
     "base_uri": "https://localhost:8080/"
    },
    "executionInfo": {
     "elapsed": 88156,
     "status": "ok",
     "timestamp": 1715157969418,
     "user": {
      "displayName": "Rahul Lalwani",
      "userId": "08386928599429106542"
     },
     "user_tz": -330
    },
    "id": "Su0fYzwkXJ_K",
    "outputId": "dc8b728d-088f-421c-83fc-0a7d862ead79"
   },
   "outputs": [
    {
     "name": "stdout",
     "output_type": "stream",
     "text": [
      "790/790 [==============================] - 74s 88ms/step - loss: 0.9995 - accuracy: 0.7276\n"
     ]
    },
    {
     "data": {
      "text/plain": [
       "[0.9995489716529846, 0.7276039719581604]"
      ]
     },
     "execution_count": 48,
     "metadata": {},
     "output_type": "execute_result"
    }
   ],
   "source": [
    "model.load_weights('model_checkpoints/cp.ckpt')\n",
    "model.evaluate(test_data)"
   ]
  },
  {
   "cell_type": "code",
   "execution_count": 49,
   "metadata": {
    "colab": {
     "base_uri": "https://localhost:8080/"
    },
    "executionInfo": {
     "elapsed": 11,
     "status": "ok",
     "timestamp": 1715158009564,
     "user": {
      "displayName": "Rahul Lalwani",
      "userId": "08386928599429106542"
     },
     "user_tz": -330
    },
    "id": "o_KVsa4vYE0i",
    "outputId": "22ef7af6-ba2e-48df-9d74-8d4a9cde7afa"
   },
   "outputs": [
    {
     "name": "stderr",
     "output_type": "stream",
     "text": [
      "WARNING:tensorflow:Detecting that an object or model or tf.train.Checkpoint is being deleted with unrestored values. See the following logs for the specific values in question. To silence these warnings, use `status.expect_partial()`. See https://www.tensorflow.org/api_docs/python/tf/train/Checkpoint#restorefor details about the status object returned by the restore function.\n",
      "WARNING:tensorflow:Value in checkpoint could not be found in the restored object: (root).optimizer._variables.1\n",
      "WARNING:tensorflow:Value in checkpoint could not be found in the restored object: (root).optimizer._variables.2\n",
      "WARNING:tensorflow:Value in checkpoint could not be found in the restored object: (root).optimizer._variables.3\n",
      "WARNING:tensorflow:Value in checkpoint could not be found in the restored object: (root).optimizer._variables.4\n"
     ]
    }
   ],
   "source": [
    "base_model.trainable = True\n",
    "\n",
    "for layer in base_model.layers[:-10]:\n",
    "  layer.trainable = False\n",
    "\n",
    "model.compile(loss = 'sparse_categorical_crossentropy',\n",
    "              optimizer = 'adam',\n",
    "              metrics = ['accuracy'])"
   ]
  },
  {
   "cell_type": "code",
   "execution_count": 50,
   "metadata": {
    "colab": {
     "base_uri": "https://localhost:8080/"
    },
    "executionInfo": {
     "elapsed": 7,
     "status": "ok",
     "timestamp": 1715158035072,
     "user": {
      "displayName": "Rahul Lalwani",
      "userId": "08386928599429106542"
     },
     "user_tz": -330
    },
    "id": "Ydr7MYZIYkML",
    "outputId": "09ae15dc-3327-4af4-c656-e72ae2de4092"
   },
   "outputs": [
    {
     "name": "stdout",
     "output_type": "stream",
     "text": [
      "input_1 False\n",
      "rescaling False\n",
      "normalization False\n",
      "rescaling_1 False\n",
      "stem_conv_pad False\n",
      "stem_conv False\n",
      "stem_bn False\n",
      "stem_activation False\n",
      "block1a_dwconv False\n",
      "block1a_bn False\n",
      "block1a_activation False\n",
      "block1a_se_squeeze False\n",
      "block1a_se_reshape False\n",
      "block1a_se_reduce False\n",
      "block1a_se_expand False\n",
      "block1a_se_excite False\n",
      "block1a_project_conv False\n",
      "block1a_project_bn False\n",
      "block2a_expand_conv False\n",
      "block2a_expand_bn False\n",
      "block2a_expand_activation False\n",
      "block2a_dwconv_pad False\n",
      "block2a_dwconv False\n",
      "block2a_bn False\n",
      "block2a_activation False\n",
      "block2a_se_squeeze False\n",
      "block2a_se_reshape False\n",
      "block2a_se_reduce False\n",
      "block2a_se_expand False\n",
      "block2a_se_excite False\n",
      "block2a_project_conv False\n",
      "block2a_project_bn False\n",
      "block2b_expand_conv False\n",
      "block2b_expand_bn False\n",
      "block2b_expand_activation False\n",
      "block2b_dwconv False\n",
      "block2b_bn False\n",
      "block2b_activation False\n",
      "block2b_se_squeeze False\n",
      "block2b_se_reshape False\n",
      "block2b_se_reduce False\n",
      "block2b_se_expand False\n",
      "block2b_se_excite False\n",
      "block2b_project_conv False\n",
      "block2b_project_bn False\n",
      "block2b_drop False\n",
      "block2b_add False\n",
      "block3a_expand_conv False\n",
      "block3a_expand_bn False\n",
      "block3a_expand_activation False\n",
      "block3a_dwconv_pad False\n",
      "block3a_dwconv False\n",
      "block3a_bn False\n",
      "block3a_activation False\n",
      "block3a_se_squeeze False\n",
      "block3a_se_reshape False\n",
      "block3a_se_reduce False\n",
      "block3a_se_expand False\n",
      "block3a_se_excite False\n",
      "block3a_project_conv False\n",
      "block3a_project_bn False\n",
      "block3b_expand_conv False\n",
      "block3b_expand_bn False\n",
      "block3b_expand_activation False\n",
      "block3b_dwconv False\n",
      "block3b_bn False\n",
      "block3b_activation False\n",
      "block3b_se_squeeze False\n",
      "block3b_se_reshape False\n",
      "block3b_se_reduce False\n",
      "block3b_se_expand False\n",
      "block3b_se_excite False\n",
      "block3b_project_conv False\n",
      "block3b_project_bn False\n",
      "block3b_drop False\n",
      "block3b_add False\n",
      "block4a_expand_conv False\n",
      "block4a_expand_bn False\n",
      "block4a_expand_activation False\n",
      "block4a_dwconv_pad False\n",
      "block4a_dwconv False\n",
      "block4a_bn False\n",
      "block4a_activation False\n",
      "block4a_se_squeeze False\n",
      "block4a_se_reshape False\n",
      "block4a_se_reduce False\n",
      "block4a_se_expand False\n",
      "block4a_se_excite False\n",
      "block4a_project_conv False\n",
      "block4a_project_bn False\n",
      "block4b_expand_conv False\n",
      "block4b_expand_bn False\n",
      "block4b_expand_activation False\n",
      "block4b_dwconv False\n",
      "block4b_bn False\n",
      "block4b_activation False\n",
      "block4b_se_squeeze False\n",
      "block4b_se_reshape False\n",
      "block4b_se_reduce False\n",
      "block4b_se_expand False\n",
      "block4b_se_excite False\n",
      "block4b_project_conv False\n",
      "block4b_project_bn False\n",
      "block4b_drop False\n",
      "block4b_add False\n",
      "block4c_expand_conv False\n",
      "block4c_expand_bn False\n",
      "block4c_expand_activation False\n",
      "block4c_dwconv False\n",
      "block4c_bn False\n",
      "block4c_activation False\n",
      "block4c_se_squeeze False\n",
      "block4c_se_reshape False\n",
      "block4c_se_reduce False\n",
      "block4c_se_expand False\n",
      "block4c_se_excite False\n",
      "block4c_project_conv False\n",
      "block4c_project_bn False\n",
      "block4c_drop False\n",
      "block4c_add False\n",
      "block5a_expand_conv False\n",
      "block5a_expand_bn False\n",
      "block5a_expand_activation False\n",
      "block5a_dwconv False\n",
      "block5a_bn False\n",
      "block5a_activation False\n",
      "block5a_se_squeeze False\n",
      "block5a_se_reshape False\n",
      "block5a_se_reduce False\n",
      "block5a_se_expand False\n",
      "block5a_se_excite False\n",
      "block5a_project_conv False\n",
      "block5a_project_bn False\n",
      "block5b_expand_conv False\n",
      "block5b_expand_bn False\n",
      "block5b_expand_activation False\n",
      "block5b_dwconv False\n",
      "block5b_bn False\n",
      "block5b_activation False\n",
      "block5b_se_squeeze False\n",
      "block5b_se_reshape False\n",
      "block5b_se_reduce False\n",
      "block5b_se_expand False\n",
      "block5b_se_excite False\n",
      "block5b_project_conv False\n",
      "block5b_project_bn False\n",
      "block5b_drop False\n",
      "block5b_add False\n",
      "block5c_expand_conv False\n",
      "block5c_expand_bn False\n",
      "block5c_expand_activation False\n",
      "block5c_dwconv False\n",
      "block5c_bn False\n",
      "block5c_activation False\n",
      "block5c_se_squeeze False\n",
      "block5c_se_reshape False\n",
      "block5c_se_reduce False\n",
      "block5c_se_expand False\n",
      "block5c_se_excite False\n",
      "block5c_project_conv False\n",
      "block5c_project_bn False\n",
      "block5c_drop False\n",
      "block5c_add False\n",
      "block6a_expand_conv False\n",
      "block6a_expand_bn False\n",
      "block6a_expand_activation False\n",
      "block6a_dwconv_pad False\n",
      "block6a_dwconv False\n",
      "block6a_bn False\n",
      "block6a_activation False\n",
      "block6a_se_squeeze False\n",
      "block6a_se_reshape False\n",
      "block6a_se_reduce False\n",
      "block6a_se_expand False\n",
      "block6a_se_excite False\n",
      "block6a_project_conv False\n",
      "block6a_project_bn False\n",
      "block6b_expand_conv False\n",
      "block6b_expand_bn False\n",
      "block6b_expand_activation False\n",
      "block6b_dwconv False\n",
      "block6b_bn False\n",
      "block6b_activation False\n",
      "block6b_se_squeeze False\n",
      "block6b_se_reshape False\n",
      "block6b_se_reduce False\n",
      "block6b_se_expand False\n",
      "block6b_se_excite False\n",
      "block6b_project_conv False\n",
      "block6b_project_bn False\n",
      "block6b_drop False\n",
      "block6b_add False\n",
      "block6c_expand_conv False\n",
      "block6c_expand_bn False\n",
      "block6c_expand_activation False\n",
      "block6c_dwconv False\n",
      "block6c_bn False\n",
      "block6c_activation False\n",
      "block6c_se_squeeze False\n",
      "block6c_se_reshape False\n",
      "block6c_se_reduce False\n",
      "block6c_se_expand False\n",
      "block6c_se_excite False\n",
      "block6c_project_conv False\n",
      "block6c_project_bn False\n",
      "block6c_drop False\n",
      "block6c_add False\n",
      "block6d_expand_conv False\n",
      "block6d_expand_bn False\n",
      "block6d_expand_activation False\n",
      "block6d_dwconv False\n",
      "block6d_bn False\n",
      "block6d_activation False\n",
      "block6d_se_squeeze False\n",
      "block6d_se_reshape False\n",
      "block6d_se_reduce False\n",
      "block6d_se_expand False\n",
      "block6d_se_excite False\n",
      "block6d_project_conv False\n",
      "block6d_project_bn False\n",
      "block6d_drop False\n",
      "block6d_add False\n",
      "block7a_expand_conv False\n",
      "block7a_expand_bn False\n",
      "block7a_expand_activation False\n",
      "block7a_dwconv False\n",
      "block7a_bn False\n",
      "block7a_activation False\n",
      "block7a_se_squeeze True\n",
      "block7a_se_reshape True\n",
      "block7a_se_reduce True\n",
      "block7a_se_expand True\n",
      "block7a_se_excite True\n",
      "block7a_project_conv True\n",
      "block7a_project_bn True\n",
      "top_conv True\n",
      "top_bn True\n",
      "top_activation True\n"
     ]
    }
   ],
   "source": [
    "for layer in model.layers[1].layers:\n",
    "  print(layer.name, layer.trainable)"
   ]
  },
  {
   "cell_type": "code",
   "execution_count": 51,
   "metadata": {
    "colab": {
     "base_uri": "https://localhost:8080/"
    },
    "executionInfo": {
     "elapsed": 809293,
     "status": "ok",
     "timestamp": 1715159168246,
     "user": {
      "displayName": "Rahul Lalwani",
      "userId": "08386928599429106542"
     },
     "user_tz": -330
    },
    "id": "8MysPG-ZYqLC",
    "outputId": "b83df90e-bb2c-464a-ca39-817bf1b9762b"
   },
   "outputs": [
    {
     "name": "stdout",
     "output_type": "stream",
     "text": [
      "Saving TensorBoard log files to: Foodvision101/food_vision_all_data_efficient/20240508-085239\n",
      "Epoch 3/6\n",
      "2367/2368 [============================>.] - ETA: 0s - loss: 1.1834 - accuracy: 0.6850\n",
      "Epoch 3: val_accuracy improved from -inf to 0.72511, saving model to model_checkpoints/cp_fine_tune_last_10.ckpt\n",
      "2368/2368 [==============================] - 208s 81ms/step - loss: 1.1835 - accuracy: 0.6850 - val_loss: 0.9938 - val_accuracy: 0.7251\n",
      "Epoch 4/6\n",
      "2368/2368 [==============================] - ETA: 0s - loss: 0.8654 - accuracy: 0.7610\n",
      "Epoch 4: val_accuracy improved from 0.72511 to 0.74020, saving model to model_checkpoints/cp_fine_tune_last_10.ckpt\n",
      "2368/2368 [==============================] - 192s 80ms/step - loss: 0.8654 - accuracy: 0.7610 - val_loss: 0.9370 - val_accuracy: 0.7402\n",
      "Epoch 5/6\n",
      "2368/2368 [==============================] - ETA: 0s - loss: 0.6552 - accuracy: 0.8129\n",
      "Epoch 5: val_accuracy did not improve from 0.74020\n",
      "2368/2368 [==============================] - 189s 79ms/step - loss: 0.6552 - accuracy: 0.8129 - val_loss: 0.9828 - val_accuracy: 0.7368\n",
      "Epoch 6/6\n",
      "2368/2368 [==============================] - ETA: 0s - loss: 0.4873 - accuracy: 0.8555\n",
      "Epoch 6: val_accuracy did not improve from 0.74020\n",
      "2368/2368 [==============================] - 202s 84ms/step - loss: 0.4873 - accuracy: 0.8555 - val_loss: 1.0273 - val_accuracy: 0.7338\n"
     ]
    }
   ],
   "source": [
    "history_101_food_classes_fine_tune_10_layers =  model.fit(train_data,\n",
    "                                                          steps_per_epoch = len(train_data),\n",
    "                                                          validation_data = test_data,\n",
    "                                                          validation_steps = int(0.15 * len(test_data)),\n",
    "                                                          epochs = 6,\n",
    "                                                          initial_epoch = history_101_food_classes_feature_extract.epoch[-1],\n",
    "                                                          callbacks = [create_tensorboard_callback(dir_name = 'Foodvision101',\n",
    "                                                                                                   experiment_name = 'food_vision_all_data_efficient'),\n",
    "                                                                       tf.keras.callbacks.ModelCheckpoint('model_checkpoints/cp_fine_tune_last_10.ckpt',\n",
    "                                                                                                          monitor = 'val_accuracy',\n",
    "                                                                                                          save_best_only = True,\n",
    "                                                                                                          save_weights_only = True,\n",
    "                                                                                                          verbose = 1)])"
   ]
  },
  {
   "cell_type": "code",
   "execution_count": 52,
   "metadata": {
    "colab": {
     "base_uri": "https://localhost:8080/"
    },
    "executionInfo": {
     "elapsed": 82517,
     "status": "ok",
     "timestamp": 1715159252637,
     "user": {
      "displayName": "Rahul Lalwani",
      "userId": "08386928599429106542"
     },
     "user_tz": -330
    },
    "id": "TgwVj3MVZ5Uy",
    "outputId": "c733990f-85a2-4ff5-e2df-d1eedcabc034"
   },
   "outputs": [
    {
     "name": "stdout",
     "output_type": "stream",
     "text": [
      "790/790 [==============================] - 75s 95ms/step - loss: 1.0366 - accuracy: 0.7352\n"
     ]
    },
    {
     "data": {
      "text/plain": [
       "[1.0366135835647583, 0.7351683378219604]"
      ]
     },
     "execution_count": 52,
     "metadata": {},
     "output_type": "execute_result"
    }
   ],
   "source": [
    "model.evaluate(test_data)"
   ]
  },
  {
   "cell_type": "code",
   "execution_count": 53,
   "metadata": {
    "colab": {
     "base_uri": "https://localhost:8080/",
     "height": 682
    },
    "executionInfo": {
     "elapsed": 1482,
     "status": "ok",
     "timestamp": 1715159255316,
     "user": {
      "displayName": "Rahul Lalwani",
      "userId": "08386928599429106542"
     },
     "user_tz": -330
    },
    "id": "DH4pue3Mc7HP",
    "outputId": "8486875d-192c-441f-dea1-9f9ee6517c82"
   },
   "outputs": [
    {
     "data": {
      "image/png": "[encoded data removed]",
      "text/plain": [
       "<Figure size 800x800 with 2 Axes>"
      ]
     },
     "metadata": {},
     "output_type": "display_data"
    }
   ],
   "source": [
    "compare_historys(history_101_food_classes_feature_extract,\n",
    "                 history_101_food_classes_fine_tune_10_layers,\n",
    "                 initial_epochs = 4)"
   ]
  },
  {
   "cell_type": "code",
   "execution_count": null,
   "metadata": {
    "id": "R4fy8j-JdJDy"
   },
   "outputs": [],
   "source": []
  }
 ],
 "metadata": {
  "accelerator": "GPU",
  "colab": {
   "gpuType": "T4",
   "provenance": []
  },
  "kernelspec": {
   "display_name": "Python 3 (ipykernel)",
   "language": "python",
   "name": "python3"
  },
  "language_info": {
   "codemirror_mode": {
    "name": "ipython",
    "version": 3
   },
   "file_extension": ".py",
   "mimetype": "text/x-python",
   "name": "python",
   "nbconvert_exporter": "python",
   "pygments_lexer": "ipython3",
   "version": "3.10.10"
  },
  "widgets": {
   "application/vnd.jupyter.widget-state+json": {
    "01fa59dcf31f4f848a27e35bd2397242": {
     "model_module": "@jupyter-widgets/controls",
     "model_module_version": "1.5.0",
     "model_name": "HTMLModel",
     "state": {
      "_dom_classes": [],
      "_model_module": "@jupyter-widgets/controls",
      "_model_module_version": "1.5.0",
      "_model_name": "HTMLModel",
      "_view_count": null,
      "_view_module": "@jupyter-widgets/controls",
      "_view_module_version": "1.5.0",
      "_view_name": "HTMLView",
      "description": "",
      "description_tooltip": null,
      "layout": "IPY_MODEL_8e372b4d19fe4889854ac748bd4b4cab",
      "placeholder": "​",
      "style": "IPY_MODEL_81f29bd33aae42d889ea03d52b878f78",
      "value": " 101008/101008 [09:11&lt;00:00, 906.23 file/s]"
     }
    },
    "02f4e18074cb4a589583f39e3eae3972": {
     "model_module": "@jupyter-widgets/controls",
     "model_module_version": "1.5.0",
     "model_name": "HTMLModel",
     "state": {
      "_dom_classes": [],
      "_model_module": "@jupyter-widgets/controls",
      "_model_module_version": "1.5.0",
      "_model_name": "HTMLModel",
      "_view_count": null,
      "_view_module": "@jupyter-widgets/controls",
      "_view_module_version": "1.5.0",
      "_view_name": "HTMLView",
      "description": "",
      "description_tooltip": null,
      "layout": "IPY_MODEL_301ac98d3f284d2ea264ff31ab5882e3",
      "placeholder": "​",
      "style": "IPY_MODEL_71b2a4d62fdf4d63ad8a5f5e70a0d61b",
      "value": "Extraction completed...: 100%"
     }
    },
    "077631c3153643f69904e1c5a5581116": {
     "model_module": "@jupyter-widgets/base",
     "model_module_version": "1.2.0",
     "model_name": "LayoutModel",
     "state": {
      "_model_module": "@jupyter-widgets/base",
      "_model_module_version": "1.2.0",
      "_model_name": "LayoutModel",
      "_view_count": null,
      "_view_module": "@jupyter-widgets/base",
      "_view_module_version": "1.2.0",
      "_view_name": "LayoutView",
      "align_content": null,
      "align_items": null,
      "align_self": null,
      "border": null,
      "bottom": null,
      "display": null,
      "flex": null,
      "flex_flow": null,
      "grid_area": null,
      "grid_auto_columns": null,
      "grid_auto_flow": null,
      "grid_auto_rows": null,
      "grid_column": null,
      "grid_gap": null,
      "grid_row": null,
      "grid_template_areas": null,
      "grid_template_columns": null,
      "grid_template_rows": null,
      "height": null,
      "justify_content": null,
      "justify_items": null,
      "left": null,
      "margin": null,
      "max_height": null,
      "max_width": null,
      "min_height": null,
      "min_width": null,
      "object_fit": null,
      "object_position": null,
      "order": null,
      "overflow": null,
      "overflow_x": null,
      "overflow_y": null,
      "padding": null,
      "right": null,
      "top": null,
      "visibility": "hidden",
      "width": null
     }
    },
    "0d0684806567485e8b9027f82116a080": {
     "model_module": "@jupyter-widgets/controls",
     "model_module_version": "1.5.0",
     "model_name": "DescriptionStyleModel",
     "state": {
      "_model_module": "@jupyter-widgets/controls",
      "_model_module_version": "1.5.0",
      "_model_name": "DescriptionStyleModel",
      "_view_count": null,
      "_view_module": "@jupyter-widgets/base",
      "_view_module_version": "1.2.0",
      "_view_name": "StyleView",
      "description_width": ""
     }
    },
    "103faae3335e40df8edfef776e3060ad": {
     "model_module": "@jupyter-widgets/controls",
     "model_module_version": "1.5.0",
     "model_name": "HTMLModel",
     "state": {
      "_dom_classes": [],
      "_model_module": "@jupyter-widgets/controls",
      "_model_module_version": "1.5.0",
      "_model_name": "HTMLModel",
      "_view_count": null,
      "_view_module": "@jupyter-widgets/controls",
      "_view_module_version": "1.5.0",
      "_view_name": "HTMLView",
      "description": "",
      "description_tooltip": null,
      "layout": "IPY_MODEL_5356c26f070f4f4b8f77e3ab9d010e14",
      "placeholder": "​",
      "style": "IPY_MODEL_4a37220007034d7a8e84742e1d6baf06",
      "value": "Generating train examples...:  99%"
     }
    },
    "106df552a3fe4ef6a01b0c94f56f4972": {
     "model_module": "@jupyter-widgets/controls",
     "model_module_version": "1.5.0",
     "model_name": "DescriptionStyleModel",
     "state": {
      "_model_module": "@jupyter-widgets/controls",
      "_model_module_version": "1.5.0",
      "_model_name": "DescriptionStyleModel",
      "_view_count": null,
      "_view_module": "@jupyter-widgets/base",
      "_view_module_version": "1.2.0",
      "_view_name": "StyleView",
      "description_width": ""
     }
    },
    "12cf450ddeea4689ba2523ab0f6857a4": {
     "model_module": "@jupyter-widgets/controls",
     "model_module_version": "1.5.0",
     "model_name": "DescriptionStyleModel",
     "state": {
      "_model_module": "@jupyter-widgets/controls",
      "_model_module_version": "1.5.0",
      "_model_name": "DescriptionStyleModel",
      "_view_count": null,
      "_view_module": "@jupyter-widgets/base",
      "_view_module_version": "1.2.0",
      "_view_name": "StyleView",
      "description_width": ""
     }
    },
    "168e2080d1204b6a93c4b1b304a70169": {
     "model_module": "@jupyter-widgets/controls",
     "model_module_version": "1.5.0",
     "model_name": "HTMLModel",
     "state": {
      "_dom_classes": [],
      "_model_module": "@jupyter-widgets/controls",
      "_model_module_version": "1.5.0",
      "_model_name": "HTMLModel",
      "_view_count": null,
      "_view_module": "@jupyter-widgets/controls",
      "_view_module_version": "1.5.0",
      "_view_name": "HTMLView",
      "description": "",
      "description_tooltip": null,
      "layout": "IPY_MODEL_cdd9a3a5695e43fba0475e74b1ba5179",
      "placeholder": "​",
      "style": "IPY_MODEL_af944e30a65a4f5b90b4217f0fe1efbc",
      "value": "Generating validation examples...: 100%"
     }
    },
    "16a1e1f2ed074d63aabf32ce363becb1": {
     "model_module": "@jupyter-widgets/controls",
     "model_module_version": "1.5.0",
     "model_name": "ProgressStyleModel",
     "state": {
      "_model_module": "@jupyter-widgets/controls",
      "_model_module_version": "1.5.0",
      "_model_name": "ProgressStyleModel",
      "_view_count": null,
      "_view_module": "@jupyter-widgets/base",
      "_view_module_version": "1.2.0",
      "_view_name": "StyleView",
      "bar_color": null,
      "description_width": ""
     }
    },
    "16cd3cc00baf450898cca5a413c9fa52": {
     "model_module": "@jupyter-widgets/controls",
     "model_module_version": "1.5.0",
     "model_name": "HTMLModel",
     "state": {
      "_dom_classes": [],
      "_model_module": "@jupyter-widgets/controls",
      "_model_module_version": "1.5.0",
      "_model_name": "HTMLModel",
      "_view_count": null,
      "_view_module": "@jupyter-widgets/controls",
      "_view_module_version": "1.5.0",
      "_view_name": "HTMLView",
      "description": "",
      "description_tooltip": null,
      "layout": "IPY_MODEL_ae6c87c831c44202ba1cbcfc681cd6b8",
      "placeholder": "​",
      "style": "IPY_MODEL_31629250663c4462aea3c224389c8dcc",
      "value": " 25235/25250 [00:05&lt;00:00, 4012.13 examples/s]"
     }
    },
    "16e88329d5e94879acd3981ea69d60d8": {
     "model_module": "@jupyter-widgets/base",
     "model_module_version": "1.2.0",
     "model_name": "LayoutModel",
     "state": {
      "_model_module": "@jupyter-widgets/base",
      "_model_module_version": "1.2.0",
      "_model_name": "LayoutModel",
      "_view_count": null,
      "_view_module": "@jupyter-widgets/base",
      "_view_module_version": "1.2.0",
      "_view_name": "LayoutView",
      "align_content": null,
      "align_items": null,
      "align_self": null,
      "border": null,
      "bottom": null,
      "display": null,
      "flex": null,
      "flex_flow": null,
      "grid_area": null,
      "grid_auto_columns": null,
      "grid_auto_flow": null,
      "grid_auto_rows": null,
      "grid_column": null,
      "grid_gap": null,
      "grid_row": null,
      "grid_template_areas": null,
      "grid_template_columns": null,
      "grid_template_rows": null,
      "height": null,
      "justify_content": null,
      "justify_items": null,
      "left": null,
      "margin": null,
      "max_height": null,
      "max_width": null,
      "min_height": null,
      "min_width": null,
      "object_fit": null,
      "object_position": null,
      "order": null,
      "overflow": null,
      "overflow_x": null,
      "overflow_y": null,
      "padding": null,
      "right": null,
      "top": null,
      "visibility": null,
      "width": null
     }
    },
    "1952e35cf3134bd18bc6d106acd2212c": {
     "model_module": "@jupyter-widgets/controls",
     "model_module_version": "1.5.0",
     "model_name": "ProgressStyleModel",
     "state": {
      "_model_module": "@jupyter-widgets/controls",
      "_model_module_version": "1.5.0",
      "_model_name": "ProgressStyleModel",
      "_view_count": null,
      "_view_module": "@jupyter-widgets/base",
      "_view_module_version": "1.2.0",
      "_view_name": "StyleView",
      "bar_color": null,
      "description_width": ""
     }
    },
    "210ec3bfb85e49bc8879d00125888959": {
     "model_module": "@jupyter-widgets/controls",
     "model_module_version": "1.5.0",
     "model_name": "HBoxModel",
     "state": {
      "_dom_classes": [],
      "_model_module": "@jupyter-widgets/controls",
      "_model_module_version": "1.5.0",
      "_model_name": "HBoxModel",
      "_view_count": null,
      "_view_module": "@jupyter-widgets/controls",
      "_view_module_version": "1.5.0",
      "_view_name": "HBoxView",
      "box_style": "",
      "children": [
       "IPY_MODEL_b300aaf6f5c9481cb149d99bf13e0e19",
       "IPY_MODEL_8c3f80bf53684df696109728443055d7",
       "IPY_MODEL_665da1e53b644a529dd6c55f2b35d0c2"
      ],
      "layout": "IPY_MODEL_cab09d61ace04a0bbc238b1283f98154"
     }
    },
    "2114340b12a741bfa213aaf468215cd8": {
     "model_module": "@jupyter-widgets/base",
     "model_module_version": "1.2.0",
     "model_name": "LayoutModel",
     "state": {
      "_model_module": "@jupyter-widgets/base",
      "_model_module_version": "1.2.0",
      "_model_name": "LayoutModel",
      "_view_count": null,
      "_view_module": "@jupyter-widgets/base",
      "_view_module_version": "1.2.0",
      "_view_name": "LayoutView",
      "align_content": null,
      "align_items": null,
      "align_self": null,
      "border": null,
      "bottom": null,
      "display": null,
      "flex": null,
      "flex_flow": null,
      "grid_area": null,
      "grid_auto_columns": null,
      "grid_auto_flow": null,
      "grid_auto_rows": null,
      "grid_column": null,
      "grid_gap": null,
      "grid_row": null,
      "grid_template_areas": null,
      "grid_template_columns": null,
      "grid_template_rows": null,
      "height": null,
      "justify_content": null,
      "justify_items": null,
      "left": null,
      "margin": null,
      "max_height": null,
      "max_width": null,
      "min_height": null,
      "min_width": null,
      "object_fit": null,
      "object_position": null,
      "order": null,
      "overflow": null,
      "overflow_x": null,
      "overflow_y": null,
      "padding": null,
      "right": null,
      "top": null,
      "visibility": null,
      "width": null
     }
    },
    "2b840752193b432c99c280046b500f43": {
     "model_module": "@jupyter-widgets/base",
     "model_module_version": "1.2.0",
     "model_name": "LayoutModel",
     "state": {
      "_model_module": "@jupyter-widgets/base",
      "_model_module_version": "1.2.0",
      "_model_name": "LayoutModel",
      "_view_count": null,
      "_view_module": "@jupyter-widgets/base",
      "_view_module_version": "1.2.0",
      "_view_name": "LayoutView",
      "align_content": null,
      "align_items": null,
      "align_self": null,
      "border": null,
      "bottom": null,
      "display": null,
      "flex": null,
      "flex_flow": null,
      "grid_area": null,
      "grid_auto_columns": null,
      "grid_auto_flow": null,
      "grid_auto_rows": null,
      "grid_column": null,
      "grid_gap": null,
      "grid_row": null,
      "grid_template_areas": null,
      "grid_template_columns": null,
      "grid_template_rows": null,
      "height": null,
      "justify_content": null,
      "justify_items": null,
      "left": null,
      "margin": null,
      "max_height": null,
      "max_width": null,
      "min_height": null,
      "min_width": null,
      "object_fit": null,
      "object_position": null,
      "order": null,
      "overflow": null,
      "overflow_x": null,
      "overflow_y": null,
      "padding": null,
      "right": null,
      "top": null,
      "visibility": null,
      "width": null
     }
    },
    "301ac98d3f284d2ea264ff31ab5882e3": {
     "model_module": "@jupyter-widgets/base",
     "model_module_version": "1.2.0",
     "model_name": "LayoutModel",
     "state": {
      "_model_module": "@jupyter-widgets/base",
      "_model_module_version": "1.2.0",
      "_model_name": "LayoutModel",
      "_view_count": null,
      "_view_module": "@jupyter-widgets/base",
      "_view_module_version": "1.2.0",
      "_view_name": "LayoutView",
      "align_content": null,
      "align_items": null,
      "align_self": null,
      "border": null,
      "bottom": null,
      "display": null,
      "flex": null,
      "flex_flow": null,
      "grid_area": null,
      "grid_auto_columns": null,
      "grid_auto_flow": null,
      "grid_auto_rows": null,
      "grid_column": null,
      "grid_gap": null,
      "grid_row": null,
      "grid_template_areas": null,
      "grid_template_columns": null,
      "grid_template_rows": null,
      "height": null,
      "justify_content": null,
      "justify_items": null,
      "left": null,
      "margin": null,
      "max_height": null,
      "max_width": null,
      "min_height": null,
      "min_width": null,
      "object_fit": null,
      "object_position": null,
      "order": null,
      "overflow": null,
      "overflow_x": null,
      "overflow_y": null,
      "padding": null,
      "right": null,
      "top": null,
      "visibility": null,
      "width": null
     }
    },
    "31629250663c4462aea3c224389c8dcc": {
     "model_module": "@jupyter-widgets/controls",
     "model_module_version": "1.5.0",
     "model_name": "DescriptionStyleModel",
     "state": {
      "_model_module": "@jupyter-widgets/controls",
      "_model_module_version": "1.5.0",
      "_model_name": "DescriptionStyleModel",
      "_view_count": null,
      "_view_module": "@jupyter-widgets/base",
      "_view_module_version": "1.2.0",
      "_view_name": "StyleView",
      "description_width": ""
     }
    },
    "31a20f05351141b79c174bb795ca2a06": {
     "model_module": "@jupyter-widgets/base",
     "model_module_version": "1.2.0",
     "model_name": "LayoutModel",
     "state": {
      "_model_module": "@jupyter-widgets/base",
      "_model_module_version": "1.2.0",
      "_model_name": "LayoutModel",
      "_view_count": null,
      "_view_module": "@jupyter-widgets/base",
      "_view_module_version": "1.2.0",
      "_view_name": "LayoutView",
      "align_content": null,
      "align_items": null,
      "align_self": null,
      "border": null,
      "bottom": null,
      "display": null,
      "flex": null,
      "flex_flow": null,
      "grid_area": null,
      "grid_auto_columns": null,
      "grid_auto_flow": null,
      "grid_auto_rows": null,
      "grid_column": null,
      "grid_gap": null,
      "grid_row": null,
      "grid_template_areas": null,
      "grid_template_columns": null,
      "grid_template_rows": null,
      "height": null,
      "justify_content": null,
      "justify_items": null,
      "left": null,
      "margin": null,
      "max_height": null,
      "max_width": null,
      "min_height": null,
      "min_width": null,
      "object_fit": null,
      "object_position": null,
      "order": null,
      "overflow": null,
      "overflow_x": null,
      "overflow_y": null,
      "padding": null,
      "right": null,
      "top": null,
      "visibility": null,
      "width": null
     }
    },
    "31b32a9b790a4379bd8bb3ecbffca469": {
     "model_module": "@jupyter-widgets/controls",
     "model_module_version": "1.5.0",
     "model_name": "HTMLModel",
     "state": {
      "_dom_classes": [],
      "_model_module": "@jupyter-widgets/controls",
      "_model_module_version": "1.5.0",
      "_model_name": "HTMLModel",
      "_view_count": null,
      "_view_module": "@jupyter-widgets/controls",
      "_view_module_version": "1.5.0",
      "_view_name": "HTMLView",
      "description": "",
      "description_tooltip": null,
      "layout": "IPY_MODEL_98b92d04ac5f4b249d9101b34a4634dd",
      "placeholder": "​",
      "style": "IPY_MODEL_4ee80ee0cf544e5e85cbdae24834e4c1",
      "value": " 4764/4764 [09:12&lt;00:00, 23.17 MiB/s]"
     }
    },
    "3520b97d1d8b46e88a0834812252b3ed": {
     "model_module": "@jupyter-widgets/base",
     "model_module_version": "1.2.0",
     "model_name": "LayoutModel",
     "state": {
      "_model_module": "@jupyter-widgets/base",
      "_model_module_version": "1.2.0",
      "_model_name": "LayoutModel",
      "_view_count": null,
      "_view_module": "@jupyter-widgets/base",
      "_view_module_version": "1.2.0",
      "_view_name": "LayoutView",
      "align_content": null,
      "align_items": null,
      "align_self": null,
      "border": null,
      "bottom": null,
      "display": null,
      "flex": null,
      "flex_flow": null,
      "grid_area": null,
      "grid_auto_columns": null,
      "grid_auto_flow": null,
      "grid_auto_rows": null,
      "grid_column": null,
      "grid_gap": null,
      "grid_row": null,
      "grid_template_areas": null,
      "grid_template_columns": null,
      "grid_template_rows": null,
      "height": null,
      "justify_content": null,
      "justify_items": null,
      "left": null,
      "margin": null,
      "max_height": null,
      "max_width": null,
      "min_height": null,
      "min_width": null,
      "object_fit": null,
      "object_position": null,
      "order": null,
      "overflow": null,
      "overflow_x": null,
      "overflow_y": null,
      "padding": null,
      "right": null,
      "top": null,
      "visibility": null,
      "width": null
     }
    },
    "3680c50be34e434eba90db1dbe515f06": {
     "model_module": "@jupyter-widgets/controls",
     "model_module_version": "1.5.0",
     "model_name": "ProgressStyleModel",
     "state": {
      "_model_module": "@jupyter-widgets/controls",
      "_model_module_version": "1.5.0",
      "_model_name": "ProgressStyleModel",
      "_view_count": null,
      "_view_module": "@jupyter-widgets/base",
      "_view_module_version": "1.2.0",
      "_view_name": "StyleView",
      "bar_color": null,
      "description_width": ""
     }
    },
    "3bb656720561483590f0d7c943f0d9d4": {
     "model_module": "@jupyter-widgets/controls",
     "model_module_version": "1.5.0",
     "model_name": "HTMLModel",
     "state": {
      "_dom_classes": [],
      "_model_module": "@jupyter-widgets/controls",
      "_model_module_version": "1.5.0",
      "_model_name": "HTMLModel",
      "_view_count": null,
      "_view_module": "@jupyter-widgets/controls",
      "_view_module_version": "1.5.0",
      "_view_name": "HTMLView",
      "description": "",
      "description_tooltip": null,
      "layout": "IPY_MODEL_46b0482f150d46cb93983234fc6c24df",
      "placeholder": "​",
      "style": "IPY_MODEL_797e8fd6a40f44a1bf5a1e0db75a885e",
      "value": "Generating splits...: 100%"
     }
    },
    "3e5c310dca9b4f5e8e96b60702249193": {
     "model_module": "@jupyter-widgets/base",
     "model_module_version": "1.2.0",
     "model_name": "LayoutModel",
     "state": {
      "_model_module": "@jupyter-widgets/base",
      "_model_module_version": "1.2.0",
      "_model_name": "LayoutModel",
      "_view_count": null,
      "_view_module": "@jupyter-widgets/base",
      "_view_module_version": "1.2.0",
      "_view_name": "LayoutView",
      "align_content": null,
      "align_items": null,
      "align_self": null,
      "border": null,
      "bottom": null,
      "display": null,
      "flex": null,
      "flex_flow": null,
      "grid_area": null,
      "grid_auto_columns": null,
      "grid_auto_flow": null,
      "grid_auto_rows": null,
      "grid_column": null,
      "grid_gap": null,
      "grid_row": null,
      "grid_template_areas": null,
      "grid_template_columns": null,
      "grid_template_rows": null,
      "height": null,
      "justify_content": null,
      "justify_items": null,
      "left": null,
      "margin": null,
      "max_height": null,
      "max_width": null,
      "min_height": null,
      "min_width": null,
      "object_fit": null,
      "object_position": null,
      "order": null,
      "overflow": null,
      "overflow_x": null,
      "overflow_y": null,
      "padding": null,
      "right": null,
      "top": null,
      "visibility": null,
      "width": null
     }
    },
    "3e9182d718024c1eaf8f6cf6f124e16f": {
     "model_module": "@jupyter-widgets/controls",
     "model_module_version": "1.5.0",
     "model_name": "ProgressStyleModel",
     "state": {
      "_model_module": "@jupyter-widgets/controls",
      "_model_module_version": "1.5.0",
      "_model_name": "ProgressStyleModel",
      "_view_count": null,
      "_view_module": "@jupyter-widgets/base",
      "_view_module_version": "1.2.0",
      "_view_name": "StyleView",
      "bar_color": null,
      "description_width": ""
     }
    },
    "40c5228e35214b4289a0ff880b42a80a": {
     "model_module": "@jupyter-widgets/controls",
     "model_module_version": "1.5.0",
     "model_name": "FloatProgressModel",
     "state": {
      "_dom_classes": [],
      "_model_module": "@jupyter-widgets/controls",
      "_model_module_version": "1.5.0",
      "_model_name": "FloatProgressModel",
      "_view_count": null,
      "_view_module": "@jupyter-widgets/controls",
      "_view_module_version": "1.5.0",
      "_view_name": "ProgressView",
      "bar_style": "",
      "description": "",
      "description_tooltip": null,
      "layout": "IPY_MODEL_4eb2f241f1664130b9f807b2aef4732d",
      "max": 75750,
      "min": 0,
      "orientation": "horizontal",
      "style": "IPY_MODEL_faf54000a48d47dab7ea0444dbf1d788",
      "value": 75750
     }
    },
    "46b0482f150d46cb93983234fc6c24df": {
     "model_module": "@jupyter-widgets/base",
     "model_module_version": "1.2.0",
     "model_name": "LayoutModel",
     "state": {
      "_model_module": "@jupyter-widgets/base",
      "_model_module_version": "1.2.0",
      "_model_name": "LayoutModel",
      "_view_count": null,
      "_view_module": "@jupyter-widgets/base",
      "_view_module_version": "1.2.0",
      "_view_name": "LayoutView",
      "align_content": null,
      "align_items": null,
      "align_self": null,
      "border": null,
      "bottom": null,
      "display": null,
      "flex": null,
      "flex_flow": null,
      "grid_area": null,
      "grid_auto_columns": null,
      "grid_auto_flow": null,
      "grid_auto_rows": null,
      "grid_column": null,
      "grid_gap": null,
      "grid_row": null,
      "grid_template_areas": null,
      "grid_template_columns": null,
      "grid_template_rows": null,
      "height": null,
      "justify_content": null,
      "justify_items": null,
      "left": null,
      "margin": null,
      "max_height": null,
      "max_width": null,
      "min_height": null,
      "min_width": null,
      "object_fit": null,
      "object_position": null,
      "order": null,
      "overflow": null,
      "overflow_x": null,
      "overflow_y": null,
      "padding": null,
      "right": null,
      "top": null,
      "visibility": null,
      "width": null
     }
    },
    "482dd47e3b0f41fb8690533453ea8a1a": {
     "model_module": "@jupyter-widgets/base",
     "model_module_version": "1.2.0",
     "model_name": "LayoutModel",
     "state": {
      "_model_module": "@jupyter-widgets/base",
      "_model_module_version": "1.2.0",
      "_model_name": "LayoutModel",
      "_view_count": null,
      "_view_module": "@jupyter-widgets/base",
      "_view_module_version": "1.2.0",
      "_view_name": "LayoutView",
      "align_content": null,
      "align_items": null,
      "align_self": null,
      "border": null,
      "bottom": null,
      "display": null,
      "flex": null,
      "flex_flow": null,
      "grid_area": null,
      "grid_auto_columns": null,
      "grid_auto_flow": null,
      "grid_auto_rows": null,
      "grid_column": null,
      "grid_gap": null,
      "grid_row": null,
      "grid_template_areas": null,
      "grid_template_columns": null,
      "grid_template_rows": null,
      "height": null,
      "justify_content": null,
      "justify_items": null,
      "left": null,
      "margin": null,
      "max_height": null,
      "max_width": null,
      "min_height": null,
      "min_width": null,
      "object_fit": null,
      "object_position": null,
      "order": null,
      "overflow": null,
      "overflow_x": null,
      "overflow_y": null,
      "padding": null,
      "right": null,
      "top": null,
      "visibility": null,
      "width": "20px"
     }
    },
    "4a37220007034d7a8e84742e1d6baf06": {
     "model_module": "@jupyter-widgets/controls",
     "model_module_version": "1.5.0",
     "model_name": "DescriptionStyleModel",
     "state": {
      "_model_module": "@jupyter-widgets/controls",
      "_model_module_version": "1.5.0",
      "_model_name": "DescriptionStyleModel",
      "_view_count": null,
      "_view_module": "@jupyter-widgets/base",
      "_view_module_version": "1.2.0",
      "_view_name": "StyleView",
      "description_width": ""
     }
    },
    "4de23330f6a44fadb0aa2f5840c8e5a4": {
     "model_module": "@jupyter-widgets/controls",
     "model_module_version": "1.5.0",
     "model_name": "DescriptionStyleModel",
     "state": {
      "_model_module": "@jupyter-widgets/controls",
      "_model_module_version": "1.5.0",
      "_model_name": "DescriptionStyleModel",
      "_view_count": null,
      "_view_module": "@jupyter-widgets/base",
      "_view_module_version": "1.2.0",
      "_view_name": "StyleView",
      "description_width": ""
     }
    },
    "4eb2f241f1664130b9f807b2aef4732d": {
     "model_module": "@jupyter-widgets/base",
     "model_module_version": "1.2.0",
     "model_name": "LayoutModel",
     "state": {
      "_model_module": "@jupyter-widgets/base",
      "_model_module_version": "1.2.0",
      "_model_name": "LayoutModel",
      "_view_count": null,
      "_view_module": "@jupyter-widgets/base",
      "_view_module_version": "1.2.0",
      "_view_name": "LayoutView",
      "align_content": null,
      "align_items": null,
      "align_self": null,
      "border": null,
      "bottom": null,
      "display": null,
      "flex": null,
      "flex_flow": null,
      "grid_area": null,
      "grid_auto_columns": null,
      "grid_auto_flow": null,
      "grid_auto_rows": null,
      "grid_column": null,
      "grid_gap": null,
      "grid_row": null,
      "grid_template_areas": null,
      "grid_template_columns": null,
      "grid_template_rows": null,
      "height": null,
      "justify_content": null,
      "justify_items": null,
      "left": null,
      "margin": null,
      "max_height": null,
      "max_width": null,
      "min_height": null,
      "min_width": null,
      "object_fit": null,
      "object_position": null,
      "order": null,
      "overflow": null,
      "overflow_x": null,
      "overflow_y": null,
      "padding": null,
      "right": null,
      "top": null,
      "visibility": null,
      "width": null
     }
    },
    "4ee80ee0cf544e5e85cbdae24834e4c1": {
     "model_module": "@jupyter-widgets/controls",
     "model_module_version": "1.5.0",
     "model_name": "DescriptionStyleModel",
     "state": {
      "_model_module": "@jupyter-widgets/controls",
      "_model_module_version": "1.5.0",
      "_model_name": "DescriptionStyleModel",
      "_view_count": null,
      "_view_module": "@jupyter-widgets/base",
      "_view_module_version": "1.2.0",
      "_view_name": "StyleView",
      "description_width": ""
     }
    },
    "5356c26f070f4f4b8f77e3ab9d010e14": {
     "model_module": "@jupyter-widgets/base",
     "model_module_version": "1.2.0",
     "model_name": "LayoutModel",
     "state": {
      "_model_module": "@jupyter-widgets/base",
      "_model_module_version": "1.2.0",
      "_model_name": "LayoutModel",
      "_view_count": null,
      "_view_module": "@jupyter-widgets/base",
      "_view_module_version": "1.2.0",
      "_view_name": "LayoutView",
      "align_content": null,
      "align_items": null,
      "align_self": null,
      "border": null,
      "bottom": null,
      "display": null,
      "flex": null,
      "flex_flow": null,
      "grid_area": null,
      "grid_auto_columns": null,
      "grid_auto_flow": null,
      "grid_auto_rows": null,
      "grid_column": null,
      "grid_gap": null,
      "grid_row": null,
      "grid_template_areas": null,
      "grid_template_columns": null,
      "grid_template_rows": null,
      "height": null,
      "justify_content": null,
      "justify_items": null,
      "left": null,
      "margin": null,
      "max_height": null,
      "max_width": null,
      "min_height": null,
      "min_width": null,
      "object_fit": null,
      "object_position": null,
      "order": null,
      "overflow": null,
      "overflow_x": null,
      "overflow_y": null,
      "padding": null,
      "right": null,
      "top": null,
      "visibility": null,
      "width": null
     }
    },
    "5f225159995149e9935ed2ec8545a448": {
     "model_module": "@jupyter-widgets/controls",
     "model_module_version": "1.5.0",
     "model_name": "HTMLModel",
     "state": {
      "_dom_classes": [],
      "_model_module": "@jupyter-widgets/controls",
      "_model_module_version": "1.5.0",
      "_model_name": "HTMLModel",
      "_view_count": null,
      "_view_module": "@jupyter-widgets/controls",
      "_view_module_version": "1.5.0",
      "_view_name": "HTMLView",
      "description": "",
      "description_tooltip": null,
      "layout": "IPY_MODEL_e9587a8400ea4b39b19972ec06c53801",
      "placeholder": "​",
      "style": "IPY_MODEL_106df552a3fe4ef6a01b0c94f56f4972",
      "value": " 75750/75750 [00:46&lt;00:00, 2488.40 examples/s]"
     }
    },
    "618529ca83644ebe98ff4b97df11ed31": {
     "model_module": "@jupyter-widgets/controls",
     "model_module_version": "1.5.0",
     "model_name": "DescriptionStyleModel",
     "state": {
      "_model_module": "@jupyter-widgets/controls",
      "_model_module_version": "1.5.0",
      "_model_name": "DescriptionStyleModel",
      "_view_count": null,
      "_view_module": "@jupyter-widgets/base",
      "_view_module_version": "1.2.0",
      "_view_name": "StyleView",
      "description_width": ""
     }
    },
    "6366a815c6b24512a165e7fe971e6df9": {
     "model_module": "@jupyter-widgets/controls",
     "model_module_version": "1.5.0",
     "model_name": "HBoxModel",
     "state": {
      "_dom_classes": [],
      "_model_module": "@jupyter-widgets/controls",
      "_model_module_version": "1.5.0",
      "_model_name": "HBoxModel",
      "_view_count": null,
      "_view_module": "@jupyter-widgets/controls",
      "_view_module_version": "1.5.0",
      "_view_name": "HBoxView",
      "box_style": "",
      "children": [
       "IPY_MODEL_168e2080d1204b6a93c4b1b304a70169",
       "IPY_MODEL_ede0b7b0335348bbb5d2c0f4767813b5",
       "IPY_MODEL_f15e7b9cc8e040e888d47e554796c4cc"
      ],
      "layout": "IPY_MODEL_a5752e990a0c4610af60d5c64e200521"
     }
    },
    "665da1e53b644a529dd6c55f2b35d0c2": {
     "model_module": "@jupyter-widgets/controls",
     "model_module_version": "1.5.0",
     "model_name": "HTMLModel",
     "state": {
      "_dom_classes": [],
      "_model_module": "@jupyter-widgets/controls",
      "_model_module_version": "1.5.0",
      "_model_name": "HTMLModel",
      "_view_count": null,
      "_view_module": "@jupyter-widgets/controls",
      "_view_module_version": "1.5.0",
      "_view_name": "HTMLView",
      "description": "",
      "description_tooltip": null,
      "layout": "IPY_MODEL_b0e9dee68fa9421b9172e419178d8844",
      "placeholder": "​",
      "style": "IPY_MODEL_4de23330f6a44fadb0aa2f5840c8e5a4",
      "value": " 1/1 [09:12&lt;00:00, 208.35s/ url]"
     }
    },
    "67eab9e51e614339b52bf76e19c7112d": {
     "model_module": "@jupyter-widgets/controls",
     "model_module_version": "1.5.0",
     "model_name": "HTMLModel",
     "state": {
      "_dom_classes": [],
      "_model_module": "@jupyter-widgets/controls",
      "_model_module_version": "1.5.0",
      "_model_name": "HTMLModel",
      "_view_count": null,
      "_view_module": "@jupyter-widgets/controls",
      "_view_module_version": "1.5.0",
      "_view_name": "HTMLView",
      "description": "",
      "description_tooltip": null,
      "layout": "IPY_MODEL_16e88329d5e94879acd3981ea69d60d8",
      "placeholder": "​",
      "style": "IPY_MODEL_f93edfd0d9ef400ab61648d98dae74a3",
      "value": " 2/2 [03:47&lt;00:00, 104.75s/ splits]"
     }
    },
    "6c23ecf3804f4da4ac32afb5cc576b88": {
     "model_module": "@jupyter-widgets/controls",
     "model_module_version": "1.5.0",
     "model_name": "DescriptionStyleModel",
     "state": {
      "_model_module": "@jupyter-widgets/controls",
      "_model_module_version": "1.5.0",
      "_model_name": "DescriptionStyleModel",
      "_view_count": null,
      "_view_module": "@jupyter-widgets/base",
      "_view_module_version": "1.2.0",
      "_view_name": "StyleView",
      "description_width": ""
     }
    },
    "6ca865fe288a4fb6bd1a2eee1fcf577c": {
     "model_module": "@jupyter-widgets/base",
     "model_module_version": "1.2.0",
     "model_name": "LayoutModel",
     "state": {
      "_model_module": "@jupyter-widgets/base",
      "_model_module_version": "1.2.0",
      "_model_name": "LayoutModel",
      "_view_count": null,
      "_view_module": "@jupyter-widgets/base",
      "_view_module_version": "1.2.0",
      "_view_name": "LayoutView",
      "align_content": null,
      "align_items": null,
      "align_self": null,
      "border": null,
      "bottom": null,
      "display": null,
      "flex": null,
      "flex_flow": null,
      "grid_area": null,
      "grid_auto_columns": null,
      "grid_auto_flow": null,
      "grid_auto_rows": null,
      "grid_column": null,
      "grid_gap": null,
      "grid_row": null,
      "grid_template_areas": null,
      "grid_template_columns": null,
      "grid_template_rows": null,
      "height": null,
      "justify_content": null,
      "justify_items": null,
      "left": null,
      "margin": null,
      "max_height": null,
      "max_width": null,
      "min_height": null,
      "min_width": null,
      "object_fit": null,
      "object_position": null,
      "order": null,
      "overflow": null,
      "overflow_x": null,
      "overflow_y": null,
      "padding": null,
      "right": null,
      "top": null,
      "visibility": null,
      "width": "20px"
     }
    },
    "6d2383b8f3d045ed93643a71ea3d2e2d": {
     "model_module": "@jupyter-widgets/controls",
     "model_module_version": "1.5.0",
     "model_name": "HBoxModel",
     "state": {
      "_dom_classes": [],
      "_model_module": "@jupyter-widgets/controls",
      "_model_module_version": "1.5.0",
      "_model_name": "HBoxModel",
      "_view_count": null,
      "_view_module": "@jupyter-widgets/controls",
      "_view_module_version": "1.5.0",
      "_view_name": "HBoxView",
      "box_style": "",
      "children": [
       "IPY_MODEL_02f4e18074cb4a589583f39e3eae3972",
       "IPY_MODEL_77f67fe53895427e94b328ad8ebaafa3",
       "IPY_MODEL_01fa59dcf31f4f848a27e35bd2397242"
      ],
      "layout": "IPY_MODEL_3e5c310dca9b4f5e8e96b60702249193"
     }
    },
    "71b2a4d62fdf4d63ad8a5f5e70a0d61b": {
     "model_module": "@jupyter-widgets/controls",
     "model_module_version": "1.5.0",
     "model_name": "DescriptionStyleModel",
     "state": {
      "_model_module": "@jupyter-widgets/controls",
      "_model_module_version": "1.5.0",
      "_model_name": "DescriptionStyleModel",
      "_view_count": null,
      "_view_module": "@jupyter-widgets/base",
      "_view_module_version": "1.2.0",
      "_view_name": "StyleView",
      "description_width": ""
     }
    },
    "76c8593700bb49ddb5e70fc238d882a1": {
     "model_module": "@jupyter-widgets/controls",
     "model_module_version": "1.5.0",
     "model_name": "DescriptionStyleModel",
     "state": {
      "_model_module": "@jupyter-widgets/controls",
      "_model_module_version": "1.5.0",
      "_model_name": "DescriptionStyleModel",
      "_view_count": null,
      "_view_module": "@jupyter-widgets/base",
      "_view_module_version": "1.2.0",
      "_view_name": "StyleView",
      "description_width": ""
     }
    },
    "76ed8ea23fdc42459b6c449b2f9851c4": {
     "model_module": "@jupyter-widgets/controls",
     "model_module_version": "1.5.0",
     "model_name": "ProgressStyleModel",
     "state": {
      "_model_module": "@jupyter-widgets/controls",
      "_model_module_version": "1.5.0",
      "_model_name": "ProgressStyleModel",
      "_view_count": null,
      "_view_module": "@jupyter-widgets/base",
      "_view_module_version": "1.2.0",
      "_view_name": "StyleView",
      "bar_color": null,
      "description_width": ""
     }
    },
    "77f67fe53895427e94b328ad8ebaafa3": {
     "model_module": "@jupyter-widgets/controls",
     "model_module_version": "1.5.0",
     "model_name": "FloatProgressModel",
     "state": {
      "_dom_classes": [],
      "_model_module": "@jupyter-widgets/controls",
      "_model_module_version": "1.5.0",
      "_model_name": "FloatProgressModel",
      "_view_count": null,
      "_view_module": "@jupyter-widgets/controls",
      "_view_module_version": "1.5.0",
      "_view_name": "ProgressView",
      "bar_style": "success",
      "description": "",
      "description_tooltip": null,
      "layout": "IPY_MODEL_e57401c2a4db46df88622aa8b648f51e",
      "max": 1,
      "min": 0,
      "orientation": "horizontal",
      "style": "IPY_MODEL_e06bb61a95724a699b86551f8d273cf6",
      "value": 1
     }
    },
    "797e8fd6a40f44a1bf5a1e0db75a885e": {
     "model_module": "@jupyter-widgets/controls",
     "model_module_version": "1.5.0",
     "model_name": "DescriptionStyleModel",
     "state": {
      "_model_module": "@jupyter-widgets/controls",
      "_model_module_version": "1.5.0",
      "_model_name": "DescriptionStyleModel",
      "_view_count": null,
      "_view_module": "@jupyter-widgets/base",
      "_view_module_version": "1.2.0",
      "_view_name": "StyleView",
      "description_width": ""
     }
    },
    "7b65faa2ea60436daf29b8d7261f6136": {
     "model_module": "@jupyter-widgets/base",
     "model_module_version": "1.2.0",
     "model_name": "LayoutModel",
     "state": {
      "_model_module": "@jupyter-widgets/base",
      "_model_module_version": "1.2.0",
      "_model_name": "LayoutModel",
      "_view_count": null,
      "_view_module": "@jupyter-widgets/base",
      "_view_module_version": "1.2.0",
      "_view_name": "LayoutView",
      "align_content": null,
      "align_items": null,
      "align_self": null,
      "border": null,
      "bottom": null,
      "display": null,
      "flex": null,
      "flex_flow": null,
      "grid_area": null,
      "grid_auto_columns": null,
      "grid_auto_flow": null,
      "grid_auto_rows": null,
      "grid_column": null,
      "grid_gap": null,
      "grid_row": null,
      "grid_template_areas": null,
      "grid_template_columns": null,
      "grid_template_rows": null,
      "height": null,
      "justify_content": null,
      "justify_items": null,
      "left": null,
      "margin": null,
      "max_height": null,
      "max_width": null,
      "min_height": null,
      "min_width": null,
      "object_fit": null,
      "object_position": null,
      "order": null,
      "overflow": null,
      "overflow_x": null,
      "overflow_y": null,
      "padding": null,
      "right": null,
      "top": null,
      "visibility": null,
      "width": null
     }
    },
    "7f611a1b76084f64b83b7268b4ec1489": {
     "model_module": "@jupyter-widgets/base",
     "model_module_version": "1.2.0",
     "model_name": "LayoutModel",
     "state": {
      "_model_module": "@jupyter-widgets/base",
      "_model_module_version": "1.2.0",
      "_model_name": "LayoutModel",
      "_view_count": null,
      "_view_module": "@jupyter-widgets/base",
      "_view_module_version": "1.2.0",
      "_view_name": "LayoutView",
      "align_content": null,
      "align_items": null,
      "align_self": null,
      "border": null,
      "bottom": null,
      "display": null,
      "flex": null,
      "flex_flow": null,
      "grid_area": null,
      "grid_auto_columns": null,
      "grid_auto_flow": null,
      "grid_auto_rows": null,
      "grid_column": null,
      "grid_gap": null,
      "grid_row": null,
      "grid_template_areas": null,
      "grid_template_columns": null,
      "grid_template_rows": null,
      "height": null,
      "justify_content": null,
      "justify_items": null,
      "left": null,
      "margin": null,
      "max_height": null,
      "max_width": null,
      "min_height": null,
      "min_width": null,
      "object_fit": null,
      "object_position": null,
      "order": null,
      "overflow": null,
      "overflow_x": null,
      "overflow_y": null,
      "padding": null,
      "right": null,
      "top": null,
      "visibility": null,
      "width": null
     }
    },
    "7fb2e7a3fe9840cc897e10e64e57ad32": {
     "model_module": "@jupyter-widgets/base",
     "model_module_version": "1.2.0",
     "model_name": "LayoutModel",
     "state": {
      "_model_module": "@jupyter-widgets/base",
      "_model_module_version": "1.2.0",
      "_model_name": "LayoutModel",
      "_view_count": null,
      "_view_module": "@jupyter-widgets/base",
      "_view_module_version": "1.2.0",
      "_view_name": "LayoutView",
      "align_content": null,
      "align_items": null,
      "align_self": null,
      "border": null,
      "bottom": null,
      "display": null,
      "flex": null,
      "flex_flow": null,
      "grid_area": null,
      "grid_auto_columns": null,
      "grid_auto_flow": null,
      "grid_auto_rows": null,
      "grid_column": null,
      "grid_gap": null,
      "grid_row": null,
      "grid_template_areas": null,
      "grid_template_columns": null,
      "grid_template_rows": null,
      "height": null,
      "justify_content": null,
      "justify_items": null,
      "left": null,
      "margin": null,
      "max_height": null,
      "max_width": null,
      "min_height": null,
      "min_width": null,
      "object_fit": null,
      "object_position": null,
      "order": null,
      "overflow": null,
      "overflow_x": null,
      "overflow_y": null,
      "padding": null,
      "right": null,
      "top": null,
      "visibility": null,
      "width": null
     }
    },
    "81f29bd33aae42d889ea03d52b878f78": {
     "model_module": "@jupyter-widgets/controls",
     "model_module_version": "1.5.0",
     "model_name": "DescriptionStyleModel",
     "state": {
      "_model_module": "@jupyter-widgets/controls",
      "_model_module_version": "1.5.0",
      "_model_name": "DescriptionStyleModel",
      "_view_count": null,
      "_view_module": "@jupyter-widgets/base",
      "_view_module_version": "1.2.0",
      "_view_name": "StyleView",
      "description_width": ""
     }
    },
    "82f488e104794dc7a917a20eab6ad693": {
     "model_module": "@jupyter-widgets/base",
     "model_module_version": "1.2.0",
     "model_name": "LayoutModel",
     "state": {
      "_model_module": "@jupyter-widgets/base",
      "_model_module_version": "1.2.0",
      "_model_name": "LayoutModel",
      "_view_count": null,
      "_view_module": "@jupyter-widgets/base",
      "_view_module_version": "1.2.0",
      "_view_name": "LayoutView",
      "align_content": null,
      "align_items": null,
      "align_self": null,
      "border": null,
      "bottom": null,
      "display": null,
      "flex": null,
      "flex_flow": null,
      "grid_area": null,
      "grid_auto_columns": null,
      "grid_auto_flow": null,
      "grid_auto_rows": null,
      "grid_column": null,
      "grid_gap": null,
      "grid_row": null,
      "grid_template_areas": null,
      "grid_template_columns": null,
      "grid_template_rows": null,
      "height": null,
      "justify_content": null,
      "justify_items": null,
      "left": null,
      "margin": null,
      "max_height": null,
      "max_width": null,
      "min_height": null,
      "min_width": null,
      "object_fit": null,
      "object_position": null,
      "order": null,
      "overflow": null,
      "overflow_x": null,
      "overflow_y": null,
      "padding": null,
      "right": null,
      "top": null,
      "visibility": "hidden",
      "width": null
     }
    },
    "84767e407de24fc891b82ed3aded87fc": {
     "model_module": "@jupyter-widgets/controls",
     "model_module_version": "1.5.0",
     "model_name": "FloatProgressModel",
     "state": {
      "_dom_classes": [],
      "_model_module": "@jupyter-widgets/controls",
      "_model_module_version": "1.5.0",
      "_model_name": "FloatProgressModel",
      "_view_count": null,
      "_view_module": "@jupyter-widgets/controls",
      "_view_module_version": "1.5.0",
      "_view_name": "ProgressView",
      "bar_style": "",
      "description": "",
      "description_tooltip": null,
      "layout": "IPY_MODEL_7fb2e7a3fe9840cc897e10e64e57ad32",
      "max": 75750,
      "min": 0,
      "orientation": "horizontal",
      "style": "IPY_MODEL_16a1e1f2ed074d63aabf32ce363becb1",
      "value": 75750
     }
    },
    "8ba63dc0a3094855bde451f720036303": {
     "model_module": "@jupyter-widgets/controls",
     "model_module_version": "1.5.0",
     "model_name": "HTMLModel",
     "state": {
      "_dom_classes": [],
      "_model_module": "@jupyter-widgets/controls",
      "_model_module_version": "1.5.0",
      "_model_name": "HTMLModel",
      "_view_count": null,
      "_view_module": "@jupyter-widgets/controls",
      "_view_module_version": "1.5.0",
      "_view_name": "HTMLView",
      "description": "",
      "description_tooltip": null,
      "layout": "IPY_MODEL_d121619f356c42abb28fde4182d3b99b",
      "placeholder": "​",
      "style": "IPY_MODEL_12cf450ddeea4689ba2523ab0f6857a4",
      "value": "Shuffling /root/tensorflow_datasets/food101/2.0.0.incompleteBWJ99I/food101-train.tfrecord*...: 100%"
     }
    },
    "8c3f80bf53684df696109728443055d7": {
     "model_module": "@jupyter-widgets/controls",
     "model_module_version": "1.5.0",
     "model_name": "FloatProgressModel",
     "state": {
      "_dom_classes": [],
      "_model_module": "@jupyter-widgets/controls",
      "_model_module_version": "1.5.0",
      "_model_name": "FloatProgressModel",
      "_view_count": null,
      "_view_module": "@jupyter-widgets/controls",
      "_view_module_version": "1.5.0",
      "_view_name": "ProgressView",
      "bar_style": "success",
      "description": "",
      "description_tooltip": null,
      "layout": "IPY_MODEL_6ca865fe288a4fb6bd1a2eee1fcf577c",
      "max": 1,
      "min": 0,
      "orientation": "horizontal",
      "style": "IPY_MODEL_3e9182d718024c1eaf8f6cf6f124e16f",
      "value": 1
     }
    },
    "8e372b4d19fe4889854ac748bd4b4cab": {
     "model_module": "@jupyter-widgets/base",
     "model_module_version": "1.2.0",
     "model_name": "LayoutModel",
     "state": {
      "_model_module": "@jupyter-widgets/base",
      "_model_module_version": "1.2.0",
      "_model_name": "LayoutModel",
      "_view_count": null,
      "_view_module": "@jupyter-widgets/base",
      "_view_module_version": "1.2.0",
      "_view_name": "LayoutView",
      "align_content": null,
      "align_items": null,
      "align_self": null,
      "border": null,
      "bottom": null,
      "display": null,
      "flex": null,
      "flex_flow": null,
      "grid_area": null,
      "grid_auto_columns": null,
      "grid_auto_flow": null,
      "grid_auto_rows": null,
      "grid_column": null,
      "grid_gap": null,
      "grid_row": null,
      "grid_template_areas": null,
      "grid_template_columns": null,
      "grid_template_rows": null,
      "height": null,
      "justify_content": null,
      "justify_items": null,
      "left": null,
      "margin": null,
      "max_height": null,
      "max_width": null,
      "min_height": null,
      "min_width": null,
      "object_fit": null,
      "object_position": null,
      "order": null,
      "overflow": null,
      "overflow_x": null,
      "overflow_y": null,
      "padding": null,
      "right": null,
      "top": null,
      "visibility": null,
      "width": null
     }
    },
    "90006f5807dc42689d018c4697f50c39": {
     "model_module": "@jupyter-widgets/base",
     "model_module_version": "1.2.0",
     "model_name": "LayoutModel",
     "state": {
      "_model_module": "@jupyter-widgets/base",
      "_model_module_version": "1.2.0",
      "_model_name": "LayoutModel",
      "_view_count": null,
      "_view_module": "@jupyter-widgets/base",
      "_view_module_version": "1.2.0",
      "_view_name": "LayoutView",
      "align_content": null,
      "align_items": null,
      "align_self": null,
      "border": null,
      "bottom": null,
      "display": null,
      "flex": null,
      "flex_flow": null,
      "grid_area": null,
      "grid_auto_columns": null,
      "grid_auto_flow": null,
      "grid_auto_rows": null,
      "grid_column": null,
      "grid_gap": null,
      "grid_row": null,
      "grid_template_areas": null,
      "grid_template_columns": null,
      "grid_template_rows": null,
      "height": null,
      "justify_content": null,
      "justify_items": null,
      "left": null,
      "margin": null,
      "max_height": null,
      "max_width": null,
      "min_height": null,
      "min_width": null,
      "object_fit": null,
      "object_position": null,
      "order": null,
      "overflow": null,
      "overflow_x": null,
      "overflow_y": null,
      "padding": null,
      "right": null,
      "top": null,
      "visibility": "hidden",
      "width": null
     }
    },
    "962a37e4496e40a89c578eb7effa41d5": {
     "model_module": "@jupyter-widgets/controls",
     "model_module_version": "1.5.0",
     "model_name": "HTMLModel",
     "state": {
      "_dom_classes": [],
      "_model_module": "@jupyter-widgets/controls",
      "_model_module_version": "1.5.0",
      "_model_name": "HTMLModel",
      "_view_count": null,
      "_view_module": "@jupyter-widgets/controls",
      "_view_module_version": "1.5.0",
      "_view_name": "HTMLView",
      "description": "",
      "description_tooltip": null,
      "layout": "IPY_MODEL_2114340b12a741bfa213aaf468215cd8",
      "placeholder": "​",
      "style": "IPY_MODEL_618529ca83644ebe98ff4b97df11ed31",
      "value": "Dl Size...: 100%"
     }
    },
    "9758b9a6707b44a1bc10184a16733a16": {
     "model_module": "@jupyter-widgets/base",
     "model_module_version": "1.2.0",
     "model_name": "LayoutModel",
     "state": {
      "_model_module": "@jupyter-widgets/base",
      "_model_module_version": "1.2.0",
      "_model_name": "LayoutModel",
      "_view_count": null,
      "_view_module": "@jupyter-widgets/base",
      "_view_module_version": "1.2.0",
      "_view_name": "LayoutView",
      "align_content": null,
      "align_items": null,
      "align_self": null,
      "border": null,
      "bottom": null,
      "display": null,
      "flex": null,
      "flex_flow": null,
      "grid_area": null,
      "grid_auto_columns": null,
      "grid_auto_flow": null,
      "grid_auto_rows": null,
      "grid_column": null,
      "grid_gap": null,
      "grid_row": null,
      "grid_template_areas": null,
      "grid_template_columns": null,
      "grid_template_rows": null,
      "height": null,
      "justify_content": null,
      "justify_items": null,
      "left": null,
      "margin": null,
      "max_height": null,
      "max_width": null,
      "min_height": null,
      "min_width": null,
      "object_fit": null,
      "object_position": null,
      "order": null,
      "overflow": null,
      "overflow_x": null,
      "overflow_y": null,
      "padding": null,
      "right": null,
      "top": null,
      "visibility": null,
      "width": null
     }
    },
    "98b92d04ac5f4b249d9101b34a4634dd": {
     "model_module": "@jupyter-widgets/base",
     "model_module_version": "1.2.0",
     "model_name": "LayoutModel",
     "state": {
      "_model_module": "@jupyter-widgets/base",
      "_model_module_version": "1.2.0",
      "_model_name": "LayoutModel",
      "_view_count": null,
      "_view_module": "@jupyter-widgets/base",
      "_view_module_version": "1.2.0",
      "_view_name": "LayoutView",
      "align_content": null,
      "align_items": null,
      "align_self": null,
      "border": null,
      "bottom": null,
      "display": null,
      "flex": null,
      "flex_flow": null,
      "grid_area": null,
      "grid_auto_columns": null,
      "grid_auto_flow": null,
      "grid_auto_rows": null,
      "grid_column": null,
      "grid_gap": null,
      "grid_row": null,
      "grid_template_areas": null,
      "grid_template_columns": null,
      "grid_template_rows": null,
      "height": null,
      "justify_content": null,
      "justify_items": null,
      "left": null,
      "margin": null,
      "max_height": null,
      "max_width": null,
      "min_height": null,
      "min_width": null,
      "object_fit": null,
      "object_position": null,
      "order": null,
      "overflow": null,
      "overflow_x": null,
      "overflow_y": null,
      "padding": null,
      "right": null,
      "top": null,
      "visibility": null,
      "width": null
     }
    },
    "9c0c1d21036f42dc876e35b3420fb953": {
     "model_module": "@jupyter-widgets/controls",
     "model_module_version": "1.5.0",
     "model_name": "HTMLModel",
     "state": {
      "_dom_classes": [],
      "_model_module": "@jupyter-widgets/controls",
      "_model_module_version": "1.5.0",
      "_model_name": "HTMLModel",
      "_view_count": null,
      "_view_module": "@jupyter-widgets/controls",
      "_view_module_version": "1.5.0",
      "_view_name": "HTMLView",
      "description": "",
      "description_tooltip": null,
      "layout": "IPY_MODEL_31a20f05351141b79c174bb795ca2a06",
      "placeholder": "​",
      "style": "IPY_MODEL_6c23ecf3804f4da4ac32afb5cc576b88",
      "value": " 75279/75750 [01:58&lt;00:00, 589.69 examples/s]"
     }
    },
    "a120386e65214070880357a5d43a5a3f": {
     "model_module": "@jupyter-widgets/controls",
     "model_module_version": "1.5.0",
     "model_name": "FloatProgressModel",
     "state": {
      "_dom_classes": [],
      "_model_module": "@jupyter-widgets/controls",
      "_model_module_version": "1.5.0",
      "_model_name": "FloatProgressModel",
      "_view_count": null,
      "_view_module": "@jupyter-widgets/controls",
      "_view_module_version": "1.5.0",
      "_view_name": "ProgressView",
      "bar_style": "",
      "description": "",
      "description_tooltip": null,
      "layout": "IPY_MODEL_7f611a1b76084f64b83b7268b4ec1489",
      "max": 2,
      "min": 0,
      "orientation": "horizontal",
      "style": "IPY_MODEL_1952e35cf3134bd18bc6d106acd2212c",
      "value": 2
     }
    },
    "a5752e990a0c4610af60d5c64e200521": {
     "model_module": "@jupyter-widgets/base",
     "model_module_version": "1.2.0",
     "model_name": "LayoutModel",
     "state": {
      "_model_module": "@jupyter-widgets/base",
      "_model_module_version": "1.2.0",
      "_model_name": "LayoutModel",
      "_view_count": null,
      "_view_module": "@jupyter-widgets/base",
      "_view_module_version": "1.2.0",
      "_view_name": "LayoutView",
      "align_content": null,
      "align_items": null,
      "align_self": null,
      "border": null,
      "bottom": null,
      "display": null,
      "flex": null,
      "flex_flow": null,
      "grid_area": null,
      "grid_auto_columns": null,
      "grid_auto_flow": null,
      "grid_auto_rows": null,
      "grid_column": null,
      "grid_gap": null,
      "grid_row": null,
      "grid_template_areas": null,
      "grid_template_columns": null,
      "grid_template_rows": null,
      "height": null,
      "justify_content": null,
      "justify_items": null,
      "left": null,
      "margin": null,
      "max_height": null,
      "max_width": null,
      "min_height": null,
      "min_width": null,
      "object_fit": null,
      "object_position": null,
      "order": null,
      "overflow": null,
      "overflow_x": null,
      "overflow_y": null,
      "padding": null,
      "right": null,
      "top": null,
      "visibility": "hidden",
      "width": null
     }
    },
    "ab846132f96d411291441880b2e3e541": {
     "model_module": "@jupyter-widgets/controls",
     "model_module_version": "1.5.0",
     "model_name": "ProgressStyleModel",
     "state": {
      "_model_module": "@jupyter-widgets/controls",
      "_model_module_version": "1.5.0",
      "_model_name": "ProgressStyleModel",
      "_view_count": null,
      "_view_module": "@jupyter-widgets/base",
      "_view_module_version": "1.2.0",
      "_view_name": "StyleView",
      "bar_color": null,
      "description_width": ""
     }
    },
    "ae6c87c831c44202ba1cbcfc681cd6b8": {
     "model_module": "@jupyter-widgets/base",
     "model_module_version": "1.2.0",
     "model_name": "LayoutModel",
     "state": {
      "_model_module": "@jupyter-widgets/base",
      "_model_module_version": "1.2.0",
      "_model_name": "LayoutModel",
      "_view_count": null,
      "_view_module": "@jupyter-widgets/base",
      "_view_module_version": "1.2.0",
      "_view_name": "LayoutView",
      "align_content": null,
      "align_items": null,
      "align_self": null,
      "border": null,
      "bottom": null,
      "display": null,
      "flex": null,
      "flex_flow": null,
      "grid_area": null,
      "grid_auto_columns": null,
      "grid_auto_flow": null,
      "grid_auto_rows": null,
      "grid_column": null,
      "grid_gap": null,
      "grid_row": null,
      "grid_template_areas": null,
      "grid_template_columns": null,
      "grid_template_rows": null,
      "height": null,
      "justify_content": null,
      "justify_items": null,
      "left": null,
      "margin": null,
      "max_height": null,
      "max_width": null,
      "min_height": null,
      "min_width": null,
      "object_fit": null,
      "object_position": null,
      "order": null,
      "overflow": null,
      "overflow_x": null,
      "overflow_y": null,
      "padding": null,
      "right": null,
      "top": null,
      "visibility": null,
      "width": null
     }
    },
    "af944e30a65a4f5b90b4217f0fe1efbc": {
     "model_module": "@jupyter-widgets/controls",
     "model_module_version": "1.5.0",
     "model_name": "DescriptionStyleModel",
     "state": {
      "_model_module": "@jupyter-widgets/controls",
      "_model_module_version": "1.5.0",
      "_model_name": "DescriptionStyleModel",
      "_view_count": null,
      "_view_module": "@jupyter-widgets/base",
      "_view_module_version": "1.2.0",
      "_view_name": "StyleView",
      "description_width": ""
     }
    },
    "b0e9dee68fa9421b9172e419178d8844": {
     "model_module": "@jupyter-widgets/base",
     "model_module_version": "1.2.0",
     "model_name": "LayoutModel",
     "state": {
      "_model_module": "@jupyter-widgets/base",
      "_model_module_version": "1.2.0",
      "_model_name": "LayoutModel",
      "_view_count": null,
      "_view_module": "@jupyter-widgets/base",
      "_view_module_version": "1.2.0",
      "_view_name": "LayoutView",
      "align_content": null,
      "align_items": null,
      "align_self": null,
      "border": null,
      "bottom": null,
      "display": null,
      "flex": null,
      "flex_flow": null,
      "grid_area": null,
      "grid_auto_columns": null,
      "grid_auto_flow": null,
      "grid_auto_rows": null,
      "grid_column": null,
      "grid_gap": null,
      "grid_row": null,
      "grid_template_areas": null,
      "grid_template_columns": null,
      "grid_template_rows": null,
      "height": null,
      "justify_content": null,
      "justify_items": null,
      "left": null,
      "margin": null,
      "max_height": null,
      "max_width": null,
      "min_height": null,
      "min_width": null,
      "object_fit": null,
      "object_position": null,
      "order": null,
      "overflow": null,
      "overflow_x": null,
      "overflow_y": null,
      "padding": null,
      "right": null,
      "top": null,
      "visibility": null,
      "width": null
     }
    },
    "b300aaf6f5c9481cb149d99bf13e0e19": {
     "model_module": "@jupyter-widgets/controls",
     "model_module_version": "1.5.0",
     "model_name": "HTMLModel",
     "state": {
      "_dom_classes": [],
      "_model_module": "@jupyter-widgets/controls",
      "_model_module_version": "1.5.0",
      "_model_name": "HTMLModel",
      "_view_count": null,
      "_view_module": "@jupyter-widgets/controls",
      "_view_module_version": "1.5.0",
      "_view_name": "HTMLView",
      "description": "",
      "description_tooltip": null,
      "layout": "IPY_MODEL_7b65faa2ea60436daf29b8d7261f6136",
      "placeholder": "​",
      "style": "IPY_MODEL_76c8593700bb49ddb5e70fc238d882a1",
      "value": "Dl Completed...: 100%"
     }
    },
    "b84353e7eb824f2bae2fbd11e3146199": {
     "model_module": "@jupyter-widgets/controls",
     "model_module_version": "1.5.0",
     "model_name": "FloatProgressModel",
     "state": {
      "_dom_classes": [],
      "_model_module": "@jupyter-widgets/controls",
      "_model_module_version": "1.5.0",
      "_model_name": "FloatProgressModel",
      "_view_count": null,
      "_view_module": "@jupyter-widgets/controls",
      "_view_module_version": "1.5.0",
      "_view_name": "ProgressView",
      "bar_style": "",
      "description": "",
      "description_tooltip": null,
      "layout": "IPY_MODEL_fe780f4fe65048ccbb3f00c989b793a8",
      "max": 25250,
      "min": 0,
      "orientation": "horizontal",
      "style": "IPY_MODEL_ab846132f96d411291441880b2e3e541",
      "value": 25250
     }
    },
    "bd631b94d428437a8f1589b3bb05d6cf": {
     "model_module": "@jupyter-widgets/base",
     "model_module_version": "1.2.0",
     "model_name": "LayoutModel",
     "state": {
      "_model_module": "@jupyter-widgets/base",
      "_model_module_version": "1.2.0",
      "_model_name": "LayoutModel",
      "_view_count": null,
      "_view_module": "@jupyter-widgets/base",
      "_view_module_version": "1.2.0",
      "_view_name": "LayoutView",
      "align_content": null,
      "align_items": null,
      "align_self": null,
      "border": null,
      "bottom": null,
      "display": null,
      "flex": null,
      "flex_flow": null,
      "grid_area": null,
      "grid_auto_columns": null,
      "grid_auto_flow": null,
      "grid_auto_rows": null,
      "grid_column": null,
      "grid_gap": null,
      "grid_row": null,
      "grid_template_areas": null,
      "grid_template_columns": null,
      "grid_template_rows": null,
      "height": null,
      "justify_content": null,
      "justify_items": null,
      "left": null,
      "margin": null,
      "max_height": null,
      "max_width": null,
      "min_height": null,
      "min_width": null,
      "object_fit": null,
      "object_position": null,
      "order": null,
      "overflow": null,
      "overflow_x": null,
      "overflow_y": null,
      "padding": null,
      "right": null,
      "top": null,
      "visibility": "hidden",
      "width": null
     }
    },
    "c4419c1276ed40e3a974f535ec35d903": {
     "model_module": "@jupyter-widgets/controls",
     "model_module_version": "1.5.0",
     "model_name": "HBoxModel",
     "state": {
      "_dom_classes": [],
      "_model_module": "@jupyter-widgets/controls",
      "_model_module_version": "1.5.0",
      "_model_name": "HBoxModel",
      "_view_count": null,
      "_view_module": "@jupyter-widgets/controls",
      "_view_module_version": "1.5.0",
      "_view_name": "HBoxView",
      "box_style": "",
      "children": [
       "IPY_MODEL_962a37e4496e40a89c578eb7effa41d5",
       "IPY_MODEL_f8c4299bf9854956a52a3da0e428a54d",
       "IPY_MODEL_31b32a9b790a4379bd8bb3ecbffca469"
      ],
      "layout": "IPY_MODEL_9758b9a6707b44a1bc10184a16733a16"
     }
    },
    "cab09d61ace04a0bbc238b1283f98154": {
     "model_module": "@jupyter-widgets/base",
     "model_module_version": "1.2.0",
     "model_name": "LayoutModel",
     "state": {
      "_model_module": "@jupyter-widgets/base",
      "_model_module_version": "1.2.0",
      "_model_name": "LayoutModel",
      "_view_count": null,
      "_view_module": "@jupyter-widgets/base",
      "_view_module_version": "1.2.0",
      "_view_name": "LayoutView",
      "align_content": null,
      "align_items": null,
      "align_self": null,
      "border": null,
      "bottom": null,
      "display": null,
      "flex": null,
      "flex_flow": null,
      "grid_area": null,
      "grid_auto_columns": null,
      "grid_auto_flow": null,
      "grid_auto_rows": null,
      "grid_column": null,
      "grid_gap": null,
      "grid_row": null,
      "grid_template_areas": null,
      "grid_template_columns": null,
      "grid_template_rows": null,
      "height": null,
      "justify_content": null,
      "justify_items": null,
      "left": null,
      "margin": null,
      "max_height": null,
      "max_width": null,
      "min_height": null,
      "min_width": null,
      "object_fit": null,
      "object_position": null,
      "order": null,
      "overflow": null,
      "overflow_x": null,
      "overflow_y": null,
      "padding": null,
      "right": null,
      "top": null,
      "visibility": null,
      "width": null
     }
    },
    "cdd9a3a5695e43fba0475e74b1ba5179": {
     "model_module": "@jupyter-widgets/base",
     "model_module_version": "1.2.0",
     "model_name": "LayoutModel",
     "state": {
      "_model_module": "@jupyter-widgets/base",
      "_model_module_version": "1.2.0",
      "_model_name": "LayoutModel",
      "_view_count": null,
      "_view_module": "@jupyter-widgets/base",
      "_view_module_version": "1.2.0",
      "_view_name": "LayoutView",
      "align_content": null,
      "align_items": null,
      "align_self": null,
      "border": null,
      "bottom": null,
      "display": null,
      "flex": null,
      "flex_flow": null,
      "grid_area": null,
      "grid_auto_columns": null,
      "grid_auto_flow": null,
      "grid_auto_rows": null,
      "grid_column": null,
      "grid_gap": null,
      "grid_row": null,
      "grid_template_areas": null,
      "grid_template_columns": null,
      "grid_template_rows": null,
      "height": null,
      "justify_content": null,
      "justify_items": null,
      "left": null,
      "margin": null,
      "max_height": null,
      "max_width": null,
      "min_height": null,
      "min_width": null,
      "object_fit": null,
      "object_position": null,
      "order": null,
      "overflow": null,
      "overflow_x": null,
      "overflow_y": null,
      "padding": null,
      "right": null,
      "top": null,
      "visibility": null,
      "width": null
     }
    },
    "d121619f356c42abb28fde4182d3b99b": {
     "model_module": "@jupyter-widgets/base",
     "model_module_version": "1.2.0",
     "model_name": "LayoutModel",
     "state": {
      "_model_module": "@jupyter-widgets/base",
      "_model_module_version": "1.2.0",
      "_model_name": "LayoutModel",
      "_view_count": null,
      "_view_module": "@jupyter-widgets/base",
      "_view_module_version": "1.2.0",
      "_view_name": "LayoutView",
      "align_content": null,
      "align_items": null,
      "align_self": null,
      "border": null,
      "bottom": null,
      "display": null,
      "flex": null,
      "flex_flow": null,
      "grid_area": null,
      "grid_auto_columns": null,
      "grid_auto_flow": null,
      "grid_auto_rows": null,
      "grid_column": null,
      "grid_gap": null,
      "grid_row": null,
      "grid_template_areas": null,
      "grid_template_columns": null,
      "grid_template_rows": null,
      "height": null,
      "justify_content": null,
      "justify_items": null,
      "left": null,
      "margin": null,
      "max_height": null,
      "max_width": null,
      "min_height": null,
      "min_width": null,
      "object_fit": null,
      "object_position": null,
      "order": null,
      "overflow": null,
      "overflow_x": null,
      "overflow_y": null,
      "padding": null,
      "right": null,
      "top": null,
      "visibility": null,
      "width": null
     }
    },
    "d6cc06ced53e4ddfa52590b560572992": {
     "model_module": "@jupyter-widgets/controls",
     "model_module_version": "1.5.0",
     "model_name": "HBoxModel",
     "state": {
      "_dom_classes": [],
      "_model_module": "@jupyter-widgets/controls",
      "_model_module_version": "1.5.0",
      "_model_name": "HBoxModel",
      "_view_count": null,
      "_view_module": "@jupyter-widgets/controls",
      "_view_module_version": "1.5.0",
      "_view_name": "HBoxView",
      "box_style": "",
      "children": [
       "IPY_MODEL_3bb656720561483590f0d7c943f0d9d4",
       "IPY_MODEL_a120386e65214070880357a5d43a5a3f",
       "IPY_MODEL_67eab9e51e614339b52bf76e19c7112d"
      ],
      "layout": "IPY_MODEL_bd631b94d428437a8f1589b3bb05d6cf"
     }
    },
    "e06bb61a95724a699b86551f8d273cf6": {
     "model_module": "@jupyter-widgets/controls",
     "model_module_version": "1.5.0",
     "model_name": "ProgressStyleModel",
     "state": {
      "_model_module": "@jupyter-widgets/controls",
      "_model_module_version": "1.5.0",
      "_model_name": "ProgressStyleModel",
      "_view_count": null,
      "_view_module": "@jupyter-widgets/base",
      "_view_module_version": "1.2.0",
      "_view_name": "StyleView",
      "bar_color": null,
      "description_width": ""
     }
    },
    "e1012249448f4b528c5345d705405c18": {
     "model_module": "@jupyter-widgets/base",
     "model_module_version": "1.2.0",
     "model_name": "LayoutModel",
     "state": {
      "_model_module": "@jupyter-widgets/base",
      "_model_module_version": "1.2.0",
      "_model_name": "LayoutModel",
      "_view_count": null,
      "_view_module": "@jupyter-widgets/base",
      "_view_module_version": "1.2.0",
      "_view_name": "LayoutView",
      "align_content": null,
      "align_items": null,
      "align_self": null,
      "border": null,
      "bottom": null,
      "display": null,
      "flex": null,
      "flex_flow": null,
      "grid_area": null,
      "grid_auto_columns": null,
      "grid_auto_flow": null,
      "grid_auto_rows": null,
      "grid_column": null,
      "grid_gap": null,
      "grid_row": null,
      "grid_template_areas": null,
      "grid_template_columns": null,
      "grid_template_rows": null,
      "height": null,
      "justify_content": null,
      "justify_items": null,
      "left": null,
      "margin": null,
      "max_height": null,
      "max_width": null,
      "min_height": null,
      "min_width": null,
      "object_fit": null,
      "object_position": null,
      "order": null,
      "overflow": null,
      "overflow_x": null,
      "overflow_y": null,
      "padding": null,
      "right": null,
      "top": null,
      "visibility": null,
      "width": null
     }
    },
    "e317e813907140edaf72b4a4b0ad137d": {
     "model_module": "@jupyter-widgets/controls",
     "model_module_version": "1.5.0",
     "model_name": "HBoxModel",
     "state": {
      "_dom_classes": [],
      "_model_module": "@jupyter-widgets/controls",
      "_model_module_version": "1.5.0",
      "_model_name": "HBoxModel",
      "_view_count": null,
      "_view_module": "@jupyter-widgets/controls",
      "_view_module_version": "1.5.0",
      "_view_name": "HBoxView",
      "box_style": "",
      "children": [
       "IPY_MODEL_8ba63dc0a3094855bde451f720036303",
       "IPY_MODEL_84767e407de24fc891b82ed3aded87fc",
       "IPY_MODEL_5f225159995149e9935ed2ec8545a448"
      ],
      "layout": "IPY_MODEL_82f488e104794dc7a917a20eab6ad693"
     }
    },
    "e57401c2a4db46df88622aa8b648f51e": {
     "model_module": "@jupyter-widgets/base",
     "model_module_version": "1.2.0",
     "model_name": "LayoutModel",
     "state": {
      "_model_module": "@jupyter-widgets/base",
      "_model_module_version": "1.2.0",
      "_model_name": "LayoutModel",
      "_view_count": null,
      "_view_module": "@jupyter-widgets/base",
      "_view_module_version": "1.2.0",
      "_view_name": "LayoutView",
      "align_content": null,
      "align_items": null,
      "align_self": null,
      "border": null,
      "bottom": null,
      "display": null,
      "flex": null,
      "flex_flow": null,
      "grid_area": null,
      "grid_auto_columns": null,
      "grid_auto_flow": null,
      "grid_auto_rows": null,
      "grid_column": null,
      "grid_gap": null,
      "grid_row": null,
      "grid_template_areas": null,
      "grid_template_columns": null,
      "grid_template_rows": null,
      "height": null,
      "justify_content": null,
      "justify_items": null,
      "left": null,
      "margin": null,
      "max_height": null,
      "max_width": null,
      "min_height": null,
      "min_width": null,
      "object_fit": null,
      "object_position": null,
      "order": null,
      "overflow": null,
      "overflow_x": null,
      "overflow_y": null,
      "padding": null,
      "right": null,
      "top": null,
      "visibility": null,
      "width": "20px"
     }
    },
    "e736f3ebb2a6425e8354d2ea7d207609": {
     "model_module": "@jupyter-widgets/controls",
     "model_module_version": "1.5.0",
     "model_name": "HTMLModel",
     "state": {
      "_dom_classes": [],
      "_model_module": "@jupyter-widgets/controls",
      "_model_module_version": "1.5.0",
      "_model_name": "HTMLModel",
      "_view_count": null,
      "_view_module": "@jupyter-widgets/controls",
      "_view_module_version": "1.5.0",
      "_view_name": "HTMLView",
      "description": "",
      "description_tooltip": null,
      "layout": "IPY_MODEL_2b840752193b432c99c280046b500f43",
      "placeholder": "​",
      "style": "IPY_MODEL_0d0684806567485e8b9027f82116a080",
      "value": "Shuffling /root/tensorflow_datasets/food101/2.0.0.incompleteBWJ99I/food101-validation.tfrecord*...: 100%"
     }
    },
    "e9587a8400ea4b39b19972ec06c53801": {
     "model_module": "@jupyter-widgets/base",
     "model_module_version": "1.2.0",
     "model_name": "LayoutModel",
     "state": {
      "_model_module": "@jupyter-widgets/base",
      "_model_module_version": "1.2.0",
      "_model_name": "LayoutModel",
      "_view_count": null,
      "_view_module": "@jupyter-widgets/base",
      "_view_module_version": "1.2.0",
      "_view_name": "LayoutView",
      "align_content": null,
      "align_items": null,
      "align_self": null,
      "border": null,
      "bottom": null,
      "display": null,
      "flex": null,
      "flex_flow": null,
      "grid_area": null,
      "grid_auto_columns": null,
      "grid_auto_flow": null,
      "grid_auto_rows": null,
      "grid_column": null,
      "grid_gap": null,
      "grid_row": null,
      "grid_template_areas": null,
      "grid_template_columns": null,
      "grid_template_rows": null,
      "height": null,
      "justify_content": null,
      "justify_items": null,
      "left": null,
      "margin": null,
      "max_height": null,
      "max_width": null,
      "min_height": null,
      "min_width": null,
      "object_fit": null,
      "object_position": null,
      "order": null,
      "overflow": null,
      "overflow_x": null,
      "overflow_y": null,
      "padding": null,
      "right": null,
      "top": null,
      "visibility": null,
      "width": null
     }
    },
    "ec60a433163c41b8b9dd0703d23ced7d": {
     "model_module": "@jupyter-widgets/controls",
     "model_module_version": "1.5.0",
     "model_name": "HBoxModel",
     "state": {
      "_dom_classes": [],
      "_model_module": "@jupyter-widgets/controls",
      "_model_module_version": "1.5.0",
      "_model_name": "HBoxModel",
      "_view_count": null,
      "_view_module": "@jupyter-widgets/controls",
      "_view_module_version": "1.5.0",
      "_view_name": "HBoxView",
      "box_style": "",
      "children": [
       "IPY_MODEL_e736f3ebb2a6425e8354d2ea7d207609",
       "IPY_MODEL_b84353e7eb824f2bae2fbd11e3146199",
       "IPY_MODEL_16cd3cc00baf450898cca5a413c9fa52"
      ],
      "layout": "IPY_MODEL_077631c3153643f69904e1c5a5581116"
     }
    },
    "ede0b7b0335348bbb5d2c0f4767813b5": {
     "model_module": "@jupyter-widgets/controls",
     "model_module_version": "1.5.0",
     "model_name": "FloatProgressModel",
     "state": {
      "_dom_classes": [],
      "_model_module": "@jupyter-widgets/controls",
      "_model_module_version": "1.5.0",
      "_model_name": "FloatProgressModel",
      "_view_count": null,
      "_view_module": "@jupyter-widgets/controls",
      "_view_module_version": "1.5.0",
      "_view_name": "ProgressView",
      "bar_style": "",
      "description": "",
      "description_tooltip": null,
      "layout": "IPY_MODEL_e1012249448f4b528c5345d705405c18",
      "max": 25250,
      "min": 0,
      "orientation": "horizontal",
      "style": "IPY_MODEL_3680c50be34e434eba90db1dbe515f06",
      "value": 25250
     }
    },
    "f15e7b9cc8e040e888d47e554796c4cc": {
     "model_module": "@jupyter-widgets/controls",
     "model_module_version": "1.5.0",
     "model_name": "HTMLModel",
     "state": {
      "_dom_classes": [],
      "_model_module": "@jupyter-widgets/controls",
      "_model_module_version": "1.5.0",
      "_model_name": "HTMLModel",
      "_view_count": null,
      "_view_module": "@jupyter-widgets/controls",
      "_view_module_version": "1.5.0",
      "_view_name": "HTMLView",
      "description": "",
      "description_tooltip": null,
      "layout": "IPY_MODEL_3520b97d1d8b46e88a0834812252b3ed",
      "placeholder": "​",
      "style": "IPY_MODEL_f973e1b0abbb47179014b432db7a848e",
      "value": " 25244/25250 [00:55&lt;00:00, 445.05 examples/s]"
     }
    },
    "f30d1f3c94ac4d0c88192d2bc8a1af3c": {
     "model_module": "@jupyter-widgets/controls",
     "model_module_version": "1.5.0",
     "model_name": "HBoxModel",
     "state": {
      "_dom_classes": [],
      "_model_module": "@jupyter-widgets/controls",
      "_model_module_version": "1.5.0",
      "_model_name": "HBoxModel",
      "_view_count": null,
      "_view_module": "@jupyter-widgets/controls",
      "_view_module_version": "1.5.0",
      "_view_name": "HBoxView",
      "box_style": "",
      "children": [
       "IPY_MODEL_103faae3335e40df8edfef776e3060ad",
       "IPY_MODEL_40c5228e35214b4289a0ff880b42a80a",
       "IPY_MODEL_9c0c1d21036f42dc876e35b3420fb953"
      ],
      "layout": "IPY_MODEL_90006f5807dc42689d018c4697f50c39"
     }
    },
    "f8c4299bf9854956a52a3da0e428a54d": {
     "model_module": "@jupyter-widgets/controls",
     "model_module_version": "1.5.0",
     "model_name": "FloatProgressModel",
     "state": {
      "_dom_classes": [],
      "_model_module": "@jupyter-widgets/controls",
      "_model_module_version": "1.5.0",
      "_model_name": "FloatProgressModel",
      "_view_count": null,
      "_view_module": "@jupyter-widgets/controls",
      "_view_module_version": "1.5.0",
      "_view_name": "ProgressView",
      "bar_style": "success",
      "description": "",
      "description_tooltip": null,
      "layout": "IPY_MODEL_482dd47e3b0f41fb8690533453ea8a1a",
      "max": 1,
      "min": 0,
      "orientation": "horizontal",
      "style": "IPY_MODEL_76ed8ea23fdc42459b6c449b2f9851c4",
      "value": 1
     }
    },
    "f93edfd0d9ef400ab61648d98dae74a3": {
     "model_module": "@jupyter-widgets/controls",
     "model_module_version": "1.5.0",
     "model_name": "DescriptionStyleModel",
     "state": {
      "_model_module": "@jupyter-widgets/controls",
      "_model_module_version": "1.5.0",
      "_model_name": "DescriptionStyleModel",
      "_view_count": null,
      "_view_module": "@jupyter-widgets/base",
      "_view_module_version": "1.2.0",
      "_view_name": "StyleView",
      "description_width": ""
     }
    },
    "f973e1b0abbb47179014b432db7a848e": {
     "model_module": "@jupyter-widgets/controls",
     "model_module_version": "1.5.0",
     "model_name": "DescriptionStyleModel",
     "state": {
      "_model_module": "@jupyter-widgets/controls",
      "_model_module_version": "1.5.0",
      "_model_name": "DescriptionStyleModel",
      "_view_count": null,
      "_view_module": "@jupyter-widgets/base",
      "_view_module_version": "1.2.0",
      "_view_name": "StyleView",
      "description_width": ""
     }
    },
    "faf54000a48d47dab7ea0444dbf1d788": {
     "model_module": "@jupyter-widgets/controls",
     "model_module_version": "1.5.0",
     "model_name": "ProgressStyleModel",
     "state": {
      "_model_module": "@jupyter-widgets/controls",
      "_model_module_version": "1.5.0",
      "_model_name": "ProgressStyleModel",
      "_view_count": null,
      "_view_module": "@jupyter-widgets/base",
      "_view_module_version": "1.2.0",
      "_view_name": "StyleView",
      "bar_color": null,
      "description_width": ""
     }
    },
    "fe780f4fe65048ccbb3f00c989b793a8": {
     "model_module": "@jupyter-widgets/base",
     "model_module_version": "1.2.0",
     "model_name": "LayoutModel",
     "state": {
      "_model_module": "@jupyter-widgets/base",
      "_model_module_version": "1.2.0",
      "_model_name": "LayoutModel",
      "_view_count": null,
      "_view_module": "@jupyter-widgets/base",
      "_view_module_version": "1.2.0",
      "_view_name": "LayoutView",
      "align_content": null,
      "align_items": null,
      "align_self": null,
      "border": null,
      "bottom": null,
      "display": null,
      "flex": null,
      "flex_flow": null,
      "grid_area": null,
      "grid_auto_columns": null,
      "grid_auto_flow": null,
      "grid_auto_rows": null,
      "grid_column": null,
      "grid_gap": null,
      "grid_row": null,
      "grid_template_areas": null,
      "grid_template_columns": null,
      "grid_template_rows": null,
      "height": null,
      "justify_content": null,
      "justify_items": null,
      "left": null,
      "margin": null,
      "max_height": null,
      "max_width": null,
      "min_height": null,
      "min_width": null,
      "object_fit": null,
      "object_position": null,
      "order": null,
      "overflow": null,
      "overflow_x": null,
      "overflow_y": null,
      "padding": null,
      "right": null,
      "top": null,
      "visibility": null,
      "width": null
     }
    }
   }
  }
 },
 "nbformat": 4,
 "nbformat_minor": 1
}
